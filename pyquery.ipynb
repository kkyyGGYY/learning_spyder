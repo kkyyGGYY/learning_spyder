{
 "metadata": {
  "kernelspec": {
   "display_name": "Python 3",
   "language": "python",
   "name": "python3"
  },
  "language_info": {
   "codemirror_mode": {
    "name": "ipython",
    "version": 3
   },
   "file_extension": ".py",
   "mimetype": "text/x-python",
   "name": "python",
   "nbconvert_exporter": "python",
   "pygments_lexer": "ipython3",
   "version": "3.5.1"
  },
  "name": "",
  "signature": "sha256:ed3b46c6ca09fdf73c57c635b43403a8ab864f2c72bf48864cbf7610c7dd1c2b"
 },
 "nbformat": 3,
 "nbformat_minor": 0,
 "worksheets": [
  {
   "cells": [
    {
     "cell_type": "heading",
     "level": 1,
     "metadata": {},
     "source": [
      "pyquery"
     ]
    },
    {
     "cell_type": "heading",
     "level": 2,
     "metadata": {},
     "source": [
      "\u521d\u59cb\u5316"
     ]
    },
    {
     "cell_type": "heading",
     "level": 3,
     "metadata": {},
     "source": [
      "\u5b57\u7b26\u4e32\u521d\u59cb\u5316"
     ]
    },
    {
     "cell_type": "code",
     "collapsed": false,
     "input": [
      "html = '''\n",
      "<div>\n",
      "    <ul>\n",
      "         <li class=\"item-0\">first item</li>\n",
      "         <li class=\"item-1\"><a href=\"link2.html\">second item</a></li>\n",
      "         <li class=\"item-0 active\"><a href=\"link3.html\"><span class=\"bold\">third item</span></a></li>\n",
      "         <li class=\"item-1 active\"><a href=\"link4.html\">fourth item</a></li>\n",
      "         <li class=\"item-0\"><a href=\"link5.html\">fifth item</a></li>\n",
      "     </ul>\n",
      " </div>\n",
      "'''\n",
      "from pyquery import PyQuery as pq\n",
      "doc = pq(html)\n",
      "print(doc('li'))"
     ],
     "language": "python",
     "metadata": {},
     "outputs": [
      {
       "output_type": "stream",
       "stream": "stdout",
       "text": [
        "<li class=\"item-0\">first item</li>\n",
        "         <li class=\"item-1\"><a href=\"link2.html\">second item</a></li>\n",
        "         <li class=\"item-0 active\"><a href=\"link3.html\"><span class=\"bold\">third item</span></a></li>\n",
        "         <li class=\"item-1 active\"><a href=\"link4.html\">fourth item</a></li>\n",
        "         <li class=\"item-0\"><a href=\"link5.html\">fifth item</a></li>\n",
        "     \n"
       ]
      }
     ],
     "prompt_number": 1
    },
    {
     "cell_type": "heading",
     "level": 3,
     "metadata": {},
     "source": [
      "URL\u521d\u59cb\u5316"
     ]
    },
    {
     "cell_type": "code",
     "collapsed": false,
     "input": [
      "from pyquery import PyQuery as pq\n",
      "doc = pq(url='http://www.baidu.com')\n",
      "print(doc('head'))"
     ],
     "language": "python",
     "metadata": {},
     "outputs": [
      {
       "output_type": "stream",
       "stream": "stdout",
       "text": [
        "<head><meta http-equiv=\"content-type\" content=\"text/html;charset=utf-8\"/><meta http-equiv=\"X-UA-Compatible\" content=\"IE=Edge\"/><meta content=\"always\" name=\"referrer\"/><link rel=\"stylesheet\" type=\"text/css\" href=\"http://s1.bdstatic.com/r/www/cache/bdorz/baidu.min.css\"/><title>\u00e7\u0099\u00be\u00e5\u00ba\u00a6\u00e4\u00b8\u0080\u00e4\u00b8\u008b\u00ef\u00bc\u008c\u00e4\u00bd\u00a0\u00e5\u00b0\u00b1\u00e7\u009f\u00a5\u00e9\u0081\u0093</title></head> \n"
       ]
      }
     ],
     "prompt_number": 2
    },
    {
     "cell_type": "heading",
     "level": 3,
     "metadata": {},
     "source": [
      "\u6587\u4ef6\u521d\u59cb\u5316"
     ]
    },
    {
     "cell_type": "code",
     "collapsed": false,
     "input": [
      "from pyquery import PyQuery as pq\n",
      "doc = pq(filename='demo.html')\n",
      "print(doc('li'))"
     ],
     "language": "python",
     "metadata": {},
     "outputs": [
      {
       "output_type": "stream",
       "stream": "stdout",
       "text": [
        "<li class=\"item-0\">first item</li>\n",
        "         <li class=\"item-1\"><a href=\"link2.html\">second item</a></li>\n",
        "         <li class=\"item-0 active\"><a href=\"link3.html\"><span class=\"bold\">third item</span></a></li>\n",
        "         <li class=\"item-1 active\"><a href=\"link4.html\">fourth item</a></li>\n",
        "         <li class=\"item-0\"><a href=\"link5.html\">fifth item</a></li>\n",
        "     \n"
       ]
      }
     ],
     "prompt_number": 3
    },
    {
     "cell_type": "heading",
     "level": 2,
     "metadata": {},
     "source": [
      "\u57fa\u672cCSS\u9009\u62e9\u5668"
     ]
    },
    {
     "cell_type": "code",
     "collapsed": false,
     "input": [
      "html = '''\n",
      "<div id=\"container\">\n",
      "    <ul class=\"list\">\n",
      "         <li class=\"item-0\">first item</li>\n",
      "         <li class=\"item-1\"><a href=\"link2.html\">second item</a></li>\n",
      "         <li class=\"item-0 active\"><a href=\"link3.html\"><span class=\"bold\">third item</span></a></li>\n",
      "         <li class=\"item-1 active\"><a href=\"link4.html\">fourth item</a></li>\n",
      "         <li class=\"item-0\"><a href=\"link5.html\">fifth item</a></li>\n",
      "     </ul>\n",
      " </div>\n",
      "'''\n",
      "from pyquery import PyQuery as pq\n",
      "doc = pq(html)\n",
      "print(doc('#container .list li'))"
     ],
     "language": "python",
     "metadata": {},
     "outputs": [
      {
       "output_type": "stream",
       "stream": "stdout",
       "text": [
        "<li class=\"item-0\">first item</li>\n",
        "         <li class=\"item-1\"><a href=\"link2.html\">second item</a></li>\n",
        "         <li class=\"item-0 active\"><a href=\"link3.html\"><span class=\"bold\">third item</span></a></li>\n",
        "         <li class=\"item-1 active\"><a href=\"link4.html\">fourth item</a></li>\n",
        "         <li class=\"item-0\"><a href=\"link5.html\">fifth item</a></li>\n",
        "     \n"
       ]
      }
     ],
     "prompt_number": 4
    },
    {
     "cell_type": "heading",
     "level": 2,
     "metadata": {},
     "source": [
      "\u67e5\u627e\u5143\u7d20"
     ]
    },
    {
     "cell_type": "heading",
     "level": 3,
     "metadata": {},
     "source": [
      "\u5b50\u5143\u7d20"
     ]
    },
    {
     "cell_type": "code",
     "collapsed": false,
     "input": [
      "html = '''\n",
      "<div id=\"container\">\n",
      "    <ul class=\"list\">\n",
      "         <li class=\"item-0\">first item</li>\n",
      "         <li class=\"item-1\"><a href=\"link2.html\">second item</a></li>\n",
      "         <li class=\"item-0 active\"><a href=\"link3.html\"><span class=\"bold\">third item</span></a></li>\n",
      "         <li class=\"item-1 active\"><a href=\"link4.html\">fourth item</a></li>\n",
      "         <li class=\"item-0\"><a href=\"link5.html\">fifth item</a></li>\n",
      "     </ul>\n",
      " </div>\n",
      "'''\n",
      "from pyquery import PyQuery as pq\n",
      "doc = pq(html)\n",
      "items = doc('.list')\n",
      "print(type(items))\n",
      "print(items)\n",
      "lis = items.find('li')\n",
      "print(type(lis))\n",
      "print(lis)"
     ],
     "language": "python",
     "metadata": {},
     "outputs": [
      {
       "output_type": "stream",
       "stream": "stdout",
       "text": [
        "<class 'pyquery.pyquery.PyQuery'>\n",
        "<ul class=\"list\">\n",
        "         <li class=\"item-0\">first item</li>\n",
        "         <li class=\"item-1\"><a href=\"link2.html\">second item</a></li>\n",
        "         <li class=\"item-0 active\"><a href=\"link3.html\"><span class=\"bold\">third item</span></a></li>\n",
        "         <li class=\"item-1 active\"><a href=\"link4.html\">fourth item</a></li>\n",
        "         <li class=\"item-0\"><a href=\"link5.html\">fifth item</a></li>\n",
        "     </ul>\n",
        " \n",
        "<class 'pyquery.pyquery.PyQuery'>\n",
        "<li class=\"item-0\">first item</li>\n",
        "         <li class=\"item-1\"><a href=\"link2.html\">second item</a></li>\n",
        "         <li class=\"item-0 active\"><a href=\"link3.html\"><span class=\"bold\">third item</span></a></li>\n",
        "         <li class=\"item-1 active\"><a href=\"link4.html\">fourth item</a></li>\n",
        "         <li class=\"item-0\"><a href=\"link5.html\">fifth item</a></li>\n",
        "     \n"
       ]
      }
     ],
     "prompt_number": 5
    },
    {
     "cell_type": "code",
     "collapsed": false,
     "input": [
      "lis = items.children()\n",
      "print(type(lis))\n",
      "print(lis)"
     ],
     "language": "python",
     "metadata": {},
     "outputs": [
      {
       "output_type": "stream",
       "stream": "stdout",
       "text": [
        "<class 'pyquery.pyquery.PyQuery'>\n",
        "<li class=\"item-0\">first item</li>\n",
        "         <li class=\"item-1\"><a href=\"link2.html\">second item</a></li>\n",
        "         <li class=\"item-0 active\"><a href=\"link3.html\"><span class=\"bold\">third item</span></a></li>\n",
        "         <li class=\"item-1 active\"><a href=\"link4.html\">fourth item</a></li>\n",
        "         <li class=\"item-0\"><a href=\"link5.html\">fifth item</a></li>\n",
        "     \n"
       ]
      }
     ],
     "prompt_number": 6
    },
    {
     "cell_type": "code",
     "collapsed": false,
     "input": [
      "lis = items.children('.active')\n",
      "print(lis)"
     ],
     "language": "python",
     "metadata": {},
     "outputs": [
      {
       "output_type": "stream",
       "stream": "stdout",
       "text": [
        "<li class=\"item-0 active\"><a href=\"link3.html\"><span class=\"bold\">third item</span></a></li>\n",
        "         <li class=\"item-1 active\"><a href=\"link4.html\">fourth item</a></li>\n",
        "         \n"
       ]
      }
     ],
     "prompt_number": 7
    },
    {
     "cell_type": "heading",
     "level": 3,
     "metadata": {},
     "source": [
      "\u7236\u5143\u7d20"
     ]
    },
    {
     "cell_type": "code",
     "collapsed": false,
     "input": [
      "html = '''\n",
      "<div id=\"container\">\n",
      "    <ul class=\"list\">\n",
      "         <li class=\"item-0\">first item</li>\n",
      "         <li class=\"item-1\"><a href=\"link2.html\">second item</a></li>\n",
      "         <li class=\"item-0 active\"><a href=\"link3.html\"><span class=\"bold\">third item</span></a></li>\n",
      "         <li class=\"item-1 active\"><a href=\"link4.html\">fourth item</a></li>\n",
      "         <li class=\"item-0\"><a href=\"link5.html\">fifth item</a></li>\n",
      "     </ul>\n",
      " </div>\n",
      "'''\n",
      "from pyquery import PyQuery as pq\n",
      "doc = pq(html)\n",
      "items = doc('.list')\n",
      "container = items.parent()\n",
      "print(type(container))\n",
      "print(container)"
     ],
     "language": "python",
     "metadata": {},
     "outputs": [
      {
       "output_type": "stream",
       "stream": "stdout",
       "text": [
        "<class 'pyquery.pyquery.PyQuery'>\n",
        "<div id=\"container\">\n",
        "    <ul class=\"list\">\n",
        "         <li class=\"item-0\">first item</li>\n",
        "         <li class=\"item-1\"><a href=\"link2.html\">second item</a></li>\n",
        "         <li class=\"item-0 active\"><a href=\"link3.html\"><span class=\"bold\">third item</span></a></li>\n",
        "         <li class=\"item-1 active\"><a href=\"link4.html\">fourth item</a></li>\n",
        "         <li class=\"item-0\"><a href=\"link5.html\">fifth item</a></li>\n",
        "     </ul>\n",
        " </div>\n"
       ]
      }
     ],
     "prompt_number": 8
    },
    {
     "cell_type": "code",
     "collapsed": false,
     "input": [
      "html = '''\n",
      "<div class=\"wrap\">\n",
      "    <div id=\"container\">\n",
      "        <ul class=\"list\">\n",
      "             <li class=\"item-0\">first item</li>\n",
      "             <li class=\"item-1\"><a href=\"link2.html\">second item</a></li>\n",
      "             <li class=\"item-0 active\"><a href=\"link3.html\"><span class=\"bold\">third item</span></a></li>\n",
      "             <li class=\"item-1 active\"><a href=\"link4.html\">fourth item</a></li>\n",
      "             <li class=\"item-0\"><a href=\"link5.html\">fifth item</a></li>\n",
      "         </ul>\n",
      "     </div>\n",
      " </div>\n",
      "'''\n",
      "from pyquery import PyQuery as pq\n",
      "doc = pq(html)\n",
      "items = doc('.list')\n",
      "parents = items.parents()\n",
      "print(type(parents))\n",
      "print(parents)"
     ],
     "language": "python",
     "metadata": {
      "scrolled": true
     },
     "outputs": [
      {
       "output_type": "stream",
       "stream": "stdout",
       "text": [
        "<class 'pyquery.pyquery.PyQuery'>\n",
        "<div class=\"wrap\">\n",
        "    <div id=\"container\">\n",
        "        <ul class=\"list\">\n",
        "             <li class=\"item-0\">first item</li>\n",
        "             <li class=\"item-1\"><a href=\"link2.html\">second item</a></li>\n",
        "             <li class=\"item-0 active\"><a href=\"link3.html\"><span class=\"bold\">third item</span></a></li>\n",
        "             <li class=\"item-1 active\"><a href=\"link4.html\">fourth item</a></li>\n",
        "             <li class=\"item-0\"><a href=\"link5.html\">fifth item</a></li>\n",
        "         </ul>\n",
        "     </div>\n",
        " </div><div id=\"container\">\n",
        "        <ul class=\"list\">\n",
        "             <li class=\"item-0\">first item</li>\n",
        "             <li class=\"item-1\"><a href=\"link2.html\">second item</a></li>\n",
        "             <li class=\"item-0 active\"><a href=\"link3.html\"><span class=\"bold\">third item</span></a></li>\n",
        "             <li class=\"item-1 active\"><a href=\"link4.html\">fourth item</a></li>\n",
        "             <li class=\"item-0\"><a href=\"link5.html\">fifth item</a></li>\n",
        "         </ul>\n",
        "     </div>\n",
        " \n"
       ]
      }
     ],
     "prompt_number": 9
    },
    {
     "cell_type": "code",
     "collapsed": false,
     "input": [
      "parent = items.parents('.wrap')\n",
      "print(parent)"
     ],
     "language": "python",
     "metadata": {},
     "outputs": [
      {
       "output_type": "stream",
       "stream": "stdout",
       "text": [
        "<div class=\"wrap\">\n",
        "    <div id=\"container\">\n",
        "        <ul class=\"list\">\n",
        "             <li class=\"item-0\">first item</li>\n",
        "             <li class=\"item-1\"><a href=\"link2.html\">second item</a></li>\n",
        "             <li class=\"item-0 active\"><a href=\"link3.html\"><span class=\"bold\">third item</span></a></li>\n",
        "             <li class=\"item-1 active\"><a href=\"link4.html\">fourth item</a></li>\n",
        "             <li class=\"item-0\"><a href=\"link5.html\">fifth item</a></li>\n",
        "         </ul>\n",
        "     </div>\n",
        " </div>\n"
       ]
      }
     ],
     "prompt_number": 10
    },
    {
     "cell_type": "heading",
     "level": 3,
     "metadata": {},
     "source": [
      "\u5144\u5f1f\u5143\u7d20"
     ]
    },
    {
     "cell_type": "code",
     "collapsed": false,
     "input": [
      "html = '''\n",
      "<div class=\"wrap\">\n",
      "    <div id=\"container\">\n",
      "        <ul class=\"list\">\n",
      "             <li class=\"item-0\">first item</li>\n",
      "             <li class=\"item-1\"><a href=\"link2.html\">second item</a></li>\n",
      "             <li class=\"item-0 active\"><a href=\"link3.html\"><span class=\"bold\">third item</span></a></li>\n",
      "             <li class=\"item-1 active\"><a href=\"link4.html\">fourth item</a></li>\n",
      "             <li class=\"item-0\"><a href=\"link5.html\">fifth item</a></li>\n",
      "         </ul>\n",
      "     </div>\n",
      " </div>\n",
      "'''\n",
      "from pyquery import PyQuery as pq\n",
      "doc = pq(html)\n",
      "li = doc('.list .item-0.active')\n",
      "print(li.siblings())"
     ],
     "language": "python",
     "metadata": {},
     "outputs": [
      {
       "output_type": "stream",
       "stream": "stdout",
       "text": [
        "<li class=\"item-1\"><a href=\"link2.html\">second item</a></li>\n",
        "             <li class=\"item-0\">first item</li>\n",
        "             <li class=\"item-1 active\"><a href=\"link4.html\">fourth item</a></li>\n",
        "             <li class=\"item-0\"><a href=\"link5.html\">fifth item</a></li>\n",
        "         \n"
       ]
      }
     ],
     "prompt_number": 11
    },
    {
     "cell_type": "code",
     "collapsed": false,
     "input": [
      "html = '''\n",
      "<div class=\"wrap\">\n",
      "    <div id=\"container\">\n",
      "        <ul class=\"list\">\n",
      "             <li class=\"item-0\">first item</li>\n",
      "             <li class=\"item-1\"><a href=\"link2.html\">second item</a></li>\n",
      "             <li class=\"item-0 active\"><a href=\"link3.html\"><span class=\"bold\">third item</span></a></li>\n",
      "             <li class=\"item-1 active\"><a href=\"link4.html\">fourth item</a></li>\n",
      "             <li class=\"item-0\"><a href=\"link5.html\">fifth item</a></li>\n",
      "         </ul>\n",
      "     </div>\n",
      " </div>\n",
      "'''\n",
      "from pyquery import PyQuery as pq\n",
      "doc = pq(html)\n",
      "li = doc('.list .item-0.active')\n",
      "print(li.siblings('.active'))"
     ],
     "language": "python",
     "metadata": {},
     "outputs": [
      {
       "output_type": "stream",
       "stream": "stdout",
       "text": [
        "<li class=\"item-1 active\"><a href=\"link4.html\">fourth item</a></li>\n",
        "             \n"
       ]
      }
     ],
     "prompt_number": 12
    },
    {
     "cell_type": "heading",
     "level": 2,
     "metadata": {},
     "source": [
      "\u904d\u5386"
     ]
    },
    {
     "cell_type": "heading",
     "level": 3,
     "metadata": {},
     "source": [
      "\u5355\u4e2a\u5143\u7d20"
     ]
    },
    {
     "cell_type": "code",
     "collapsed": false,
     "input": [
      "html = '''\n",
      "<div class=\"wrap\">\n",
      "    <div id=\"container\">\n",
      "        <ul class=\"list\">\n",
      "             <li class=\"item-0\">first item</li>\n",
      "             <li class=\"item-1\"><a href=\"link2.html\">second item</a></li>\n",
      "             <li class=\"item-0 active\"><a href=\"link3.html\"><span class=\"bold\">third item</span></a></li>\n",
      "             <li class=\"item-1 active\"><a href=\"link4.html\">fourth item</a></li>\n",
      "             <li class=\"item-0\"><a href=\"link5.html\">fifth item</a></li>\n",
      "         </ul>\n",
      "     </div>\n",
      " </div>\n",
      "'''\n",
      "from pyquery import PyQuery as pq\n",
      "doc = pq(html)\n",
      "li = doc('.item-0.active')\n",
      "print(li)"
     ],
     "language": "python",
     "metadata": {},
     "outputs": [
      {
       "output_type": "stream",
       "stream": "stdout",
       "text": [
        "<li class=\"item-0 active\"><a href=\"link3.html\"><span class=\"bold\">third item</span></a></li>\n",
        "             \n"
       ]
      }
     ],
     "prompt_number": 13
    },
    {
     "cell_type": "code",
     "collapsed": false,
     "input": [
      "html = '''\n",
      "<div class=\"wrap\">\n",
      "    <div id=\"container\">\n",
      "        <ul class=\"list\">\n",
      "             <li class=\"item-0\">first item</li>\n",
      "             <li class=\"item-1\"><a href=\"link2.html\">second item</a></li>\n",
      "             <li class=\"item-0 active\"><a href=\"link3.html\"><span class=\"bold\">third item</span></a></li>\n",
      "             <li class=\"item-1 active\"><a href=\"link4.html\">fourth item</a></li>\n",
      "             <li class=\"item-0\"><a href=\"link5.html\">fifth item</a></li>\n",
      "         </ul>\n",
      "     </div>\n",
      " </div>\n",
      "'''\n",
      "from pyquery import PyQuery as pq\n",
      "doc = pq(html)\n",
      "lis = doc('li').items()\n",
      "print(type(lis))\n",
      "for li in lis:\n",
      "    print(li)"
     ],
     "language": "python",
     "metadata": {},
     "outputs": [
      {
       "output_type": "stream",
       "stream": "stdout",
       "text": [
        "<class 'generator'>\n",
        "<li class=\"item-0\">first item</li>\n",
        "             \n",
        "<li class=\"item-1\"><a href=\"link2.html\">second item</a></li>\n",
        "             \n",
        "<li class=\"item-0 active\"><a href=\"link3.html\"><span class=\"bold\">third item</span></a></li>\n",
        "             \n",
        "<li class=\"item-1 active\"><a href=\"link4.html\">fourth item</a></li>\n",
        "             \n",
        "<li class=\"item-0\"><a href=\"link5.html\">fifth item</a></li>\n",
        "         \n"
       ]
      }
     ],
     "prompt_number": 14
    },
    {
     "cell_type": "heading",
     "level": 2,
     "metadata": {},
     "source": [
      "\u83b7\u53d6\u4fe1\u606f"
     ]
    },
    {
     "cell_type": "heading",
     "level": 3,
     "metadata": {},
     "source": [
      "\u83b7\u53d6\u5c5e\u6027"
     ]
    },
    {
     "cell_type": "code",
     "collapsed": false,
     "input": [
      "html = '''\n",
      "<div class=\"wrap\">\n",
      "    <div id=\"container\">\n",
      "        <ul class=\"list\">\n",
      "             <li class=\"item-0\">first item</li>\n",
      "             <li class=\"item-1\"><a href=\"link2.html\">second item</a></li>\n",
      "             <li class=\"item-0 active\"><a href=\"link3.html\"><span class=\"bold\">third item</span></a></li>\n",
      "             <li class=\"item-1 active\"><a href=\"link4.html\">fourth item</a></li>\n",
      "             <li class=\"item-0\"><a href=\"link5.html\">fifth item</a></li>\n",
      "         </ul>\n",
      "     </div>\n",
      " </div>\n",
      "'''\n",
      "from pyquery import PyQuery as pq\n",
      "doc = pq(html)\n",
      "a = doc('.item-0.active a')\n",
      "print(a)\n",
      "print(a.attr('href'))\n",
      "print(a.attr.href)\n",
      "print(a('span').text())"
     ],
     "language": "python",
     "metadata": {},
     "outputs": [
      {
       "output_type": "stream",
       "stream": "stdout",
       "text": [
        "<a href=\"link3.html\"><span class=\"bold\">third item</span></a>\n",
        "link3.html\n",
        "link3.html\n",
        "third item\n"
       ]
      }
     ],
     "prompt_number": 3
    },
    {
     "cell_type": "heading",
     "level": 3,
     "metadata": {},
     "source": [
      "\u83b7\u53d6\u6587\u672c"
     ]
    },
    {
     "cell_type": "code",
     "collapsed": false,
     "input": [
      "html = '''\n",
      "<div class=\"wrap\">\n",
      "    <div id=\"container\">\n",
      "        <ul class=\"list\">\n",
      "             <li class=\"item-0\">first item</li>\n",
      "             <li class=\"item-1\"><a href=\"link2.html\">second item</a></li>\n",
      "             <li class=\"item-0 active\"><a href=\"link3.html\"><span class=\"bold\">third item</span></a></li>\n",
      "             <li class=\"item-1 active\"><a href=\"link4.html\">fourth item</a></li>\n",
      "             <li class=\"item-0\"><a href=\"link5.html\">fifth item</a></li>\n",
      "         </ul>\n",
      "     </div>\n",
      " </div>\n",
      "'''\n",
      "from pyquery import PyQuery as pq\n",
      "doc = pq(html)\n",
      "a = doc('.item-0.active a')\n",
      "print(a)\n",
      "print(a.text())"
     ],
     "language": "python",
     "metadata": {},
     "outputs": [
      {
       "output_type": "stream",
       "stream": "stdout",
       "text": [
        "<a href=\"link3.html\"><span class=\"bold\">third item</span></a>\n",
        "third item\n"
       ]
      }
     ],
     "prompt_number": 16
    },
    {
     "cell_type": "heading",
     "level": 3,
     "metadata": {},
     "source": [
      "\u83b7\u53d6HTML"
     ]
    },
    {
     "cell_type": "code",
     "collapsed": false,
     "input": [
      "html = '''\n",
      "<div class=\"wrap\">\n",
      "    <div id=\"container\">\n",
      "        <ul class=\"list\">\n",
      "             <li class=\"item-0\">first item</li>\n",
      "             <li class=\"item-1\"><a href=\"link2.html\">second item</a></li>\n",
      "             <li class=\"item-0 active\"><a href=\"link3.html\"><span class=\"bold\">third item</span></a></li>\n",
      "             <li class=\"item-1 active\"><a href=\"link4.html\">fourth item</a></li>\n",
      "             <li class=\"item-0\"><a href=\"link5.html\">fifth item</a></li>\n",
      "         </ul>\n",
      "     </div>\n",
      " </div>\n",
      "'''\n",
      "from pyquery import PyQuery as pq\n",
      "doc = pq(html)\n",
      "li = doc('.item-0.active')\n",
      "print(li)\n",
      "print(li.html())"
     ],
     "language": "python",
     "metadata": {},
     "outputs": [
      {
       "output_type": "stream",
       "stream": "stdout",
       "text": [
        "<li class=\"item-0 active\"><a href=\"link3.html\"><span class=\"bold\">third item</span></a></li>\n",
        "             \n",
        "<a href=\"link3.html\"><span class=\"bold\">third item</span></a>\n"
       ]
      }
     ],
     "prompt_number": 18
    },
    {
     "cell_type": "heading",
     "level": 2,
     "metadata": {},
     "source": [
      "DOM\u64cd\u4f5c"
     ]
    },
    {
     "cell_type": "heading",
     "level": 3,
     "metadata": {},
     "source": [
      "addClass\u3001removeClass"
     ]
    },
    {
     "cell_type": "code",
     "collapsed": false,
     "input": [
      "html = '''\n",
      "<div class=\"wrap\">\n",
      "    <div id=\"container\">\n",
      "        <ul class=\"list\">\n",
      "             <li class=\"item-0\">first item</li>\n",
      "             <li class=\"item-1\"><a href=\"link2.html\">second item</a></li>\n",
      "             <li class=\"item-0 active\"><a href=\"link3.html\"><span class=\"bold\">third item</span></a></li>\n",
      "             <li class=\"item-1 active\"><a href=\"link4.html\">fourth item</a></li>\n",
      "             <li class=\"item-0\"><a href=\"link5.html\">fifth item</a></li>\n",
      "         </ul>\n",
      "     </div>\n",
      " </div>\n",
      "'''\n",
      "from pyquery import PyQuery as pq\n",
      "doc = pq(html)\n",
      "li = doc('.item-0.active')\n",
      "print(li)\n",
      "li.removeClass('active')\n",
      "print(li)\n",
      "li.addClass('active')\n",
      "print(li)"
     ],
     "language": "python",
     "metadata": {},
     "outputs": [
      {
       "output_type": "stream",
       "stream": "stdout",
       "text": [
        "<li class=\"item-0 active\"><a href=\"link3.html\"><span class=\"bold\">third item</span></a></li>\n",
        "             \n",
        "<li class=\"item-0\"><a href=\"link3.html\"><span class=\"bold\">third item</span></a></li>\n",
        "             \n",
        "<li class=\"item-0 active\"><a href=\"link3.html\"><span class=\"bold\">third item</span></a></li>\n",
        "             \n"
       ]
      }
     ],
     "prompt_number": 19
    },
    {
     "cell_type": "heading",
     "level": 3,
     "metadata": {},
     "source": [
      "attr\u3001css"
     ]
    },
    {
     "cell_type": "code",
     "collapsed": false,
     "input": [
      "html = '''\n",
      "<div class=\"wrap\">\n",
      "    <div id=\"container\">\n",
      "        <ul class=\"list\">\n",
      "             <li class=\"item-0\">first item</li>\n",
      "             <li class=\"item-1\"><a href=\"link2.html\">second item</a></li>\n",
      "             <li class=\"item-0 active\"><a href=\"link3.html\"><span class=\"bold\">third item</span></a></li>\n",
      "             <li class=\"item-1 active\"><a href=\"link4.html\">fourth item</a></li>\n",
      "             <li class=\"item-0\"><a href=\"link5.html\">fifth item</a></li>\n",
      "         </ul>\n",
      "     </div>\n",
      " </div>\n",
      "'''\n",
      "from pyquery import PyQuery as pq\n",
      "doc = pq(html)\n",
      "li = doc('.item-0.active')\n",
      "print(li)\n",
      "li.attr('name', 'link')\n",
      "print(li)\n",
      "li.css('font-size', '14px')\n",
      "print(li)\n",
      "print(li.attr('name'))"
     ],
     "language": "python",
     "metadata": {},
     "outputs": [
      {
       "output_type": "stream",
       "stream": "stdout",
       "text": [
        "<li class=\"item-0 active\"><a href=\"link3.html\"><span class=\"bold\">third item</span></a></li>\n",
        "             \n",
        "<li class=\"item-0 active\" name=\"link\"><a href=\"link3.html\"><span class=\"bold\">third item</span></a></li>\n",
        "             \n",
        "<li class=\"item-0 active\" name=\"link\" style=\"font-size: 14px\"><a href=\"link3.html\"><span class=\"bold\">third item</span></a></li>\n",
        "             \n",
        "link\n"
       ]
      }
     ],
     "prompt_number": 5
    },
    {
     "cell_type": "heading",
     "level": 3,
     "metadata": {},
     "source": [
      "remove"
     ]
    },
    {
     "cell_type": "code",
     "collapsed": false,
     "input": [
      "html = '''\n",
      "<div class=\"wrap\">\n",
      "    Hello, World\n",
      "    <p>This is a paragraph.</p>\n",
      " </div>\n",
      "'''\n",
      "from pyquery import PyQuery as pq\n",
      "doc = pq(html)\n",
      "wrap = doc('.wrap')\n",
      "print(wrap.text())\n",
      "wrap.find('p').remove()\n",
      "print(wrap.text())"
     ],
     "language": "python",
     "metadata": {},
     "outputs": [
      {
       "output_type": "stream",
       "stream": "stdout",
       "text": [
        "Hello, World This is a paragraph.\n",
        "Hello, World\n"
       ]
      }
     ],
     "prompt_number": 21
    },
    {
     "cell_type": "heading",
     "level": 3,
     "metadata": {},
     "source": [
      "\u5176\u4ed6DOM\u65b9\u6cd5"
     ]
    },
    {
     "cell_type": "markdown",
     "metadata": {},
     "source": [
      "http://pyquery.readthedocs.io/en/latest/api.html"
     ]
    },
    {
     "cell_type": "heading",
     "level": 2,
     "metadata": {},
     "source": [
      "\u4f2a\u7c7b\u9009\u62e9\u5668"
     ]
    },
    {
     "cell_type": "code",
     "collapsed": false,
     "input": [
      "html = '''\n",
      "<div class=\"wrap\">\n",
      "    <div id=\"container\">\n",
      "        <ul class=\"list\">\n",
      "             <li class=\"item-0\">first item</li>\n",
      "             <li class=\"item-1\"><a href=\"link2.html\">second item</a></li>\n",
      "             <li class=\"item-0 active\"><a href=\"link3.html\"><span class=\"bold\">third item</span></a></li>\n",
      "             <li class=\"item-1 active\"><a href=\"link4.html\">fourth item</a></li>\n",
      "             <li class=\"item-0\"><a href=\"link5.html\">fifth item</a></li>\n",
      "         </ul>\n",
      "     </div>\n",
      " </div>\n",
      "'''\n",
      "from pyquery import PyQuery as pq\n",
      "doc = pq(html)\n",
      "li = doc('li:first-child')\n",
      "print(li)\n",
      "li = doc('li:last-child')\n",
      "print(li)\n",
      "li = doc('li:nth-child(2)') # \u7b2c\u4e8c\u4e2a\n",
      "print(li)\n",
      "li = doc('li:gt(2)') # \u5927\u4e8e2\u7684\u6240\u6709\n",
      "print(li)\n",
      "li = doc('li:nth-child(2n)') # \u5076\u6570\u6807\u7b7e\n",
      "print(li)\n",
      "li = doc('li:contains(second)') # \u5305\u542bsecond\u7684\n",
      "print(li)"
     ],
     "language": "python",
     "metadata": {},
     "outputs": [
      {
       "output_type": "stream",
       "stream": "stdout",
       "text": [
        "<li class=\"item-0\">first item</li>\n",
        "             \n",
        "<li class=\"item-0\"><a href=\"link5.html\">fifth item</a></li>\n",
        "         \n",
        "<li class=\"item-1\"><a href=\"link2.html\">second item</a></li>\n",
        "             \n",
        "<li class=\"item-1 active\"><a href=\"link4.html\">fourth item</a></li>\n",
        "             <li class=\"item-0\"><a href=\"link5.html\">fifth item</a></li>\n",
        "         \n",
        "<li class=\"item-1\"><a href=\"link2.html\">second item</a></li>\n",
        "             <li class=\"item-1 active\"><a href=\"link4.html\">fourth item</a></li>\n",
        "             \n",
        "<li class=\"item-1\"><a href=\"link2.html\">second item</a></li>\n",
        "             \n"
       ]
      }
     ],
     "prompt_number": 23
    },
    {
     "cell_type": "markdown",
     "metadata": {},
     "source": [
      "\u66f4\u591aCSS\u9009\u62e9\u5668\u53ef\u4ee5\u67e5\u770b\n",
      "http://www.w3school.com.cn/css/index.asp"
     ]
    },
    {
     "cell_type": "heading",
     "level": 2,
     "metadata": {},
     "source": [
      "\u5b98\u65b9\u6587\u6863"
     ]
    },
    {
     "cell_type": "markdown",
     "metadata": {},
     "source": [
      "http://pyquery.readthedocs.io/"
     ]
    }
   ],
   "metadata": {}
  }
 ]
}