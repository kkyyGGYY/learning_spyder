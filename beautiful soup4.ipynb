{
 "metadata": {
  "name": "",
  "signature": "sha256:414611b80349e02e38e97d33e4fa640c41e797a5f2f5672a7d39c079cbb5c1c4"
 },
 "nbformat": 3,
 "nbformat_minor": 0,
 "worksheets": [
  {
   "cells": [
    {
     "cell_type": "heading",
     "level": 1,
     "metadata": {},
     "source": [
      "BeautifulSoup"
     ]
    },
    {
     "cell_type": "heading",
     "level": 3,
     "metadata": {},
     "source": [
      "\u89e3\u6790\u5668"
     ]
    },
    {
     "cell_type": "markdown",
     "metadata": {},
     "source": [
      "| \u89e3\u6790\u5668| \u4f7f\u7528\u65b9\u6cd5| \u4f18\u52bf| \u52a3\u52bf|\n",
      "|----|----|\n",
      "| python\u6807\u51c6\u5e93\t| BeautifulSoup(markup,\"html.parser\") | python\u7684\u5185\u7f6e\u6807\u51c6\u5e93\uff0c\u6267\u884c\u901f\u5ea6\u9002\u4e2d\uff0c\u6587\u6863\u5bb9\u9519\u80fd\u529b\u5f3a| python2.7.3 or 3.2.2\u524d\u7684\u7248\u672c\u4e2d\u6587\u5bb9\u9519\u80fd\u529b\u5dee|\n",
      "| lxml HTML \u89e3\u6790\u5668\t| BeautifulSoup(markup,\"lxml\") | \u901f\u5ea6\u5feb\uff0c\u6587\u6863\u5bb9\u9519\u80fd\u529b\u5f3a| \u9700\u8981\u5b89\u88c5C\u8bed\u8a00\u5e93|\n",
      "| lxml XML \u89e3\u6790\u5668\t| BeautifulSoup(markup,\"xml\") | \u901f\u5ea6\u5feb\uff0c\u552f\u4e00\u652f\u6301XML\u7684\u89e3\u6790\u5668| \u9700\u8981\u5b89\u88c5C\u8bed\u8a00\u5e93|\n",
      "| heml5lib\t| BeautifulSoup(markup,\"html.heml5lib\") | \u6700\u597d\u7684\u5bb9\u9519\u6027\u3001\u4ee5\u6d4f\u89c8\u5668\u7684\u65b9\u5f0f\u89e3\u6790\u6587\u6863\uff0c\u751f\u6210HTML5\u683c\u5f0f\u7684\u6587\u6863| \u901f\u5ea6\u6162\uff0c\u4e0d\u4f9d\u8d56\u5916\u90e8\u6269\u5c55|"
     ]
    },
    {
     "cell_type": "heading",
     "level": 3,
     "metadata": {},
     "source": [
      "\u57fa\u672c\u4f7f\u7528"
     ]
    },
    {
     "cell_type": "code",
     "collapsed": false,
     "input": [
      "from bs4 import BeautifulSoup\n",
      "html = '''\n",
      "\n",
      "    <title>\n",
      "    \u8c46\u74e3\u8bfb\u4e66\n",
      "</title>\n",
      "<div id=\"db-global-nav\" class=\"global-nav\">\n",
      "  <div class=\"bd\">\n",
      "    \n",
      "<div class=\"top-nav-info\">\n",
      "  <a href=\"https://www.douban.com/accounts/login?source=book\" class=\"nav-login\" rel=\"nofollow\">\u767b\u5f55</a>\n",
      "  <a href=\"https://www.douban.com/accounts/register?source=book\" class=\"nav-register\" rel=\"nofollow\">\u6ce8\u518c</a>\n",
      "</div>\n",
      "\n",
      "\n",
      "    \n",
      "<div class=\"top-nav-doubanapp\">\n",
      "  <a href=\"https://www.douban.com/doubanapp/app?channel=top-nav\" class=\"lnk-doubanapp\">\u4e0b\u8f7d\u8c46\u74e3\u5ba2\u6237\u7aef</a>\n",
      "  <div id=\"top-nav-appintro\" class=\"more-items\">\n",
      "  <ul>\n",
      "    <p class=\"appintro-title\" name=\"douban\" >\u8c46\u74e3</p>\n",
      "    <p class=\"slogan\">\u6211\u4eec\u7684\u7cbe\u795e\u89d2\u843d</p>\n",
      "    <p class=\"qrcode\">\u626b\u7801\u76f4\u63a5\u4e0b\u8f7d</p>\n",
      "</ul>\n",
      "    <div class=\"download\">\n",
      "    <ul>\n",
      "      <a href=\"https://www.douban.com/doubanapp/redirect?channel=top-nav&direct_dl=1&download=iOS\">iPhone</a>\n",
      "      <span>\u00b7</span>\n",
      "      <a href=\"https://www.douban.com/doubanapp/redirect?channel=top-nav&direct_dl=1&download=Android\" class=\"download-android\">Android</a>\n",
      "      </ul>\n",
      "    </div>\n",
      "    <div id=\"doubanapp-tip\">\n",
      "      <a href=\"https://www.douban.com/doubanapp/app?channel=qipao\" class=\"tip-link\">\u8c46\u74e3 5.0 \u5168\u65b0\u53d1\u5e03</a>\n",
      "      <a href=\"javascript: void 0;\" class=\"tip-close\">\u00d7</a>\n",
      "    </div>\n",
      "  </div>\n",
      "</div>\n",
      "'''\n",
      "soup = BeautifulSoup(html, 'lxml')\n",
      "print(soup.prettify())\n",
      "print(soup.title.string.strip())"
     ],
     "language": "python",
     "metadata": {},
     "outputs": [
      {
       "output_type": "stream",
       "stream": "stdout",
       "text": [
        "<html>\n",
        " <head>\n",
        "  <title>\n",
        "   \u8c46\u74e3\u8bfb\u4e66\n",
        "  </title>\n",
        " </head>\n",
        " <body>\n",
        "  <div class=\"global-nav\" id=\"db-global-nav\">\n",
        "   <div class=\"bd\">\n",
        "    <div class=\"top-nav-info\">\n",
        "     <a class=\"nav-login\" href=\"https://www.douban.com/accounts/login?source=book\" rel=\"nofollow\">\n",
        "      \u767b\u5f55\n",
        "     </a>\n",
        "     <a class=\"nav-register\" href=\"https://www.douban.com/accounts/register?source=book\" rel=\"nofollow\">\n",
        "      \u6ce8\u518c\n",
        "     </a>\n",
        "    </div>\n",
        "    <div class=\"top-nav-doubanapp\">\n",
        "     <a class=\"lnk-doubanapp\" href=\"https://www.douban.com/doubanapp/app?channel=top-nav\">\n",
        "      \u4e0b\u8f7d\u8c46\u74e3\u5ba2\u6237\u7aef\n",
        "     </a>\n",
        "     <div class=\"more-items\" id=\"top-nav-appintro\">\n",
        "      <p class=\"appintro-title\">\n",
        "       \u8c46\u74e3\n",
        "      </p>\n",
        "      <p class=\"slogan\">\n",
        "       \u6211\u4eec\u7684\u7cbe\u795e\u89d2\u843d\n",
        "      </p>\n",
        "      <p class=\"qrcode\">\n",
        "       \u626b\u7801\u76f4\u63a5\u4e0b\u8f7d\n",
        "      </p>\n",
        "      <div class=\"download\">\n",
        "       <a href=\"https://www.douban.com/doubanapp/redirect?channel=top-nav&amp;direct_dl=1&amp;download=iOS\">\n",
        "        iPhone\n",
        "       </a>\n",
        "       <span>\n",
        "        \u00b7\n",
        "       </span>\n",
        "       <a class=\"download-android\" href=\"https://www.douban.com/doubanapp/redirect?channel=top-nav&amp;direct_dl=1&amp;download=Android\">\n",
        "        Android\n",
        "       </a>\n",
        "      </div>\n",
        "      <div id=\"doubanapp-tip\">\n",
        "       <a class=\"tip-link\" href=\"https://www.douban.com/doubanapp/app?channel=qipao\">\n",
        "        \u8c46\u74e3 5.0 \u5168\u65b0\u53d1\u5e03\n",
        "       </a>\n",
        "       <a class=\"tip-close\" href=\"javascript: void 0;\">\n",
        "        \u00d7\n",
        "       </a>\n",
        "      </div>\n",
        "     </div>\n",
        "    </div>\n",
        "   </div>\n",
        "  </div>\n",
        " </body>\n",
        "</html>\n",
        "\u8c46\u74e3\u8bfb\u4e66\n"
       ]
      }
     ],
     "prompt_number": 7
    },
    {
     "cell_type": "heading",
     "level": 2,
     "metadata": {},
     "source": [
      "\u6807\u7b7e\u9009\u62e9\u5668"
     ]
    },
    {
     "cell_type": "heading",
     "level": 4,
     "metadata": {},
     "source": [
      "\u9009\u62e9\u5143\u7d20"
     ]
    },
    {
     "cell_type": "code",
     "collapsed": false,
     "input": [
      "\n",
      "print(soup.title)\n",
      "print(type(soup.title))\n",
      "print(soup.p)\n",
      "# print(soup.div)"
     ],
     "language": "python",
     "metadata": {},
     "outputs": [
      {
       "output_type": "stream",
       "stream": "stdout",
       "text": [
        "<title>\n",
        "    \u8c46\u74e3\u8bfb\u4e66\n",
        "</title>\n",
        "<class 'bs4.element.Tag'>\n",
        "<p class=\"appintro-title\">\u8c46\u74e3</p>\n"
       ]
      }
     ],
     "prompt_number": 11
    },
    {
     "cell_type": "heading",
     "level": 4,
     "metadata": {},
     "source": [
      "\u83b7\u53d6\u540d\u79f0"
     ]
    },
    {
     "cell_type": "code",
     "collapsed": false,
     "input": [
      "\n",
      "from bs4 import BeautifulSoup\n",
      "soup = BeautifulSoup(html, 'lxml')\n",
      "print(soup.title.name)"
     ],
     "language": "python",
     "metadata": {},
     "outputs": [
      {
       "output_type": "stream",
       "stream": "stdout",
       "text": [
        "title\n"
       ]
      }
     ],
     "prompt_number": 12
    },
    {
     "cell_type": "heading",
     "level": 4,
     "metadata": {},
     "source": [
      "\u83b7\u53d6\u5c5e\u6027"
     ]
    },
    {
     "cell_type": "code",
     "collapsed": false,
     "input": [
      "\n",
      "from bs4 import BeautifulSoup\n",
      "soup = BeautifulSoup(html, 'lxml')\n",
      "print(soup.p.attrs['name'])\n",
      "print(soup.p['name'])"
     ],
     "language": "python",
     "metadata": {},
     "outputs": [
      {
       "output_type": "stream",
       "stream": "stdout",
       "text": [
        "douban\n",
        "douban\n"
       ]
      }
     ],
     "prompt_number": 15
    },
    {
     "cell_type": "heading",
     "level": 4,
     "metadata": {},
     "source": [
      "\u83b7\u53d6\u5185\u5bb9"
     ]
    },
    {
     "cell_type": "code",
     "collapsed": false,
     "input": [
      "html = '''\n",
      "\n",
      "    <title>\n",
      "    \u8c46\u74e3\u8bfb\u4e66\n",
      "</title>\n",
      "<div id=\"db-global-nav\" class=\"global-nav\">\n",
      "  <div class=\"bd\">\n",
      "    \n",
      "<div class=\"top-nav-info\">\n",
      "  <a href=\"https://www.douban.com/accounts/login?source=book\" class=\"nav-login\" rel=\"nofollow\">\u767b\u5f55</a>\n",
      "  <a href=\"https://www.douban.com/accounts/register?source=book\" class=\"nav-register\" rel=\"nofollow\">\u6ce8\u518c</a>\n",
      "</div>\n",
      "\n",
      "\n",
      "    \n",
      "<div class=\"top-nav-doubanapp\">\n",
      "  <a href=\"https://www.douban.com/doubanapp/app?channel=top-nav\" class=\"lnk-doubanapp\">\u4e0b\u8f7d\u8c46\u74e3\u5ba2\u6237\u7aef</a>\n",
      "  <div id=\"top-nav-appintro\" class=\"more-items\">\n",
      "    <p class=\"appintro-title\" name=\"douban\" >\u8c46\u74e3</p>\n",
      "    <p class=\"slogan\">\u6211\u4eec\u7684\u7cbe\u795e\u89d2\u843d</p>\n",
      "    <p class=\"qrcode\">\u626b\u7801\u76f4\u63a5\u4e0b\u8f7d</p>\n",
      "    <div class=\"download\">\n",
      "      <a href=\"https://www.douban.com/doubanapp/redirect?channel=top-nav&direct_dl=1&download=iOS\">iPhone</a>\n",
      "      <span>\u00b7</span>\n",
      "      <a href=\"https://www.douban.com/doubanapp/redirect?channel=top-nav&direct_dl=1&download=Android\" class=\"download-android\">Android</a>\n",
      "    </div>\n",
      "    <div id=\"doubanapp-tip\">\n",
      "      <a href=\"https://www.douban.com/doubanapp/app?channel=qipao\" class=\"tip-link\">\u8c46\u74e3 5.0 \u5168\u65b0\u53d1\u5e03</a>\n",
      "      <a href=\"javascript: void 0;\" class=\"tip-close\">\u00d7</a>\n",
      "    </div>\n",
      "  </div>\n",
      "</div>\n",
      "'''\n",
      "from bs4 import BeautifulSoup\n",
      "soup = BeautifulSoup(html, 'lxml')\n",
      "print(soup.p.string)"
     ],
     "language": "python",
     "metadata": {},
     "outputs": [
      {
       "output_type": "stream",
       "stream": "stdout",
       "text": [
        "\u8c46\u74e3\n"
       ]
      }
     ],
     "prompt_number": 16
    },
    {
     "cell_type": "heading",
     "level": 4,
     "metadata": {},
     "source": [
      "\u5d4c\u5957\u9009\u62e9"
     ]
    },
    {
     "cell_type": "code",
     "collapsed": false,
     "input": [
      "html = '''\n",
      "\n",
      "    <title>\n",
      "    \u8c46\u74e3\u8bfb\u4e66\n",
      "</title>\n",
      "<div id=\"db-global-nav\" class=\"global-nav\">\n",
      "  <div class=\"bd\">\n",
      "    \n",
      "<div class=\"top-nav-info\">\n",
      "  <a href=\"https://www.douban.com/accounts/login?source=book\" class=\"nav-login\" rel=\"nofollow\">\u767b\u5f55</a>\n",
      "  <a href=\"https://www.douban.com/accounts/register?source=book\" class=\"nav-register\" rel=\"nofollow\">\u6ce8\u518c</a>\n",
      "</div>\n",
      "\n",
      "\n",
      "    \n",
      "<div class=\"top-nav-doubanapp\">\n",
      "  <a href=\"https://www.douban.com/doubanapp/app?channel=top-nav\" class=\"lnk-doubanapp\">\u4e0b\u8f7d\u8c46\u74e3\u5ba2\u6237\u7aef</a>\n",
      "  <div id=\"top-nav-appintro\" class=\"more-items\">\n",
      "    <p class=\"appintro-title\" name=\"douban\" >\u8c46\u74e3</p>\n",
      "    <p class=\"slogan\">\u6211\u4eec\u7684\u7cbe\u795e\u89d2\u843d</p>\n",
      "    <p class=\"qrcode\">\u626b\u7801\u76f4\u63a5\u4e0b\u8f7d</p>\n",
      "    <div class=\"download\">\n",
      "      <a href=\"https://www.douban.com/doubanapp/redirect?channel=top-nav&direct_dl=1&download=iOS\">iPhone</a>\n",
      "      <span>\u00b7</span>\n",
      "      <a href=\"https://www.douban.com/doubanapp/redirect?channel=top-nav&direct_dl=1&download=Android\" class=\"download-android\">Android</a>\n",
      "    </div>\n",
      "    <div id=\"doubanapp-tip\">\n",
      "      <a href=\"https://www.douban.com/doubanapp/app?channel=qipao\" class=\"tip-link\">\u8c46\u74e3 5.0 \u5168\u65b0\u53d1\u5e03</a>\n",
      "      <a href=\"javascript: void 0;\" class=\"tip-close\">\u00d7</a>\n",
      "    </div>\n",
      "  </div>\n",
      "</div>\n",
      "'''\n",
      "from bs4 import BeautifulSoup\n",
      "soup = BeautifulSoup(html, 'lxml')\n",
      "print(soup.div.div.p.string)"
     ],
     "language": "python",
     "metadata": {},
     "outputs": [
      {
       "output_type": "stream",
       "stream": "stdout",
       "text": [
        "\u8c46\u74e3\n"
       ]
      }
     ],
     "prompt_number": 17
    },
    {
     "cell_type": "heading",
     "level": 4,
     "metadata": {},
     "source": [
      "\u5b50\u8282\u70b9\u548c\u5b50\u5b59\u8282\u70b9"
     ]
    },
    {
     "cell_type": "code",
     "collapsed": false,
     "input": [
      "html = '''\n",
      "\n",
      "    <title>\n",
      "    \u8c46\u74e3\u8bfb\u4e66\n",
      "</title>\n",
      "<div id=\"db-global-nav\" class=\"global-nav\">\n",
      "  <div class=\"bd\">\n",
      "    \n",
      "<div class=\"top-nav-info\">\n",
      "  <a href=\"https://www.douban.com/accounts/login?source=book\" class=\"nav-login\" rel=\"nofollow\">\u767b\u5f55</a>\n",
      "  <a href=\"https://www.douban.com/accounts/register?source=book\" class=\"nav-register\" rel=\"nofollow\">\u6ce8\u518c</a>\n",
      "</div>\n",
      "\n",
      "\n",
      "    \n",
      "<div class=\"top-nav-doubanapp\">\n",
      "  <a href=\"https://www.douban.com/doubanapp/app?channel=top-nav\" class=\"lnk-doubanapp\">\u4e0b\u8f7d\u8c46\u74e3\u5ba2\u6237\u7aef</a>\n",
      "  <div id=\"top-nav-appintro\" class=\"more-items\">\n",
      "    <p class=\"appintro-title\" name=\"douban\" >\u8c46\u74e3</p>\n",
      "    <p class=\"slogan\">\u6211\u4eec\u7684\u7cbe\u795e\u89d2\u843d</p>\n",
      "    <p class=\"qrcode\">\u626b\u7801\u76f4\u63a5\u4e0b\u8f7d</p>\n",
      "    <div class=\"download\">\n",
      "      <a href=\"https://www.douban.com/doubanapp/redirect?channel=top-nav&direct_dl=1&download=iOS\">iPhone</a>\n",
      "      <span>\u00b7</span>\n",
      "      <a href=\"https://www.douban.com/doubanapp/redirect?channel=top-nav&direct_dl=1&download=Android\" class=\"download-android\">Android</a>\n",
      "    </div>\n",
      "    <div id=\"doubanapp-tip\">\n",
      "      <a href=\"https://www.douban.com/doubanapp/app?channel=qipao\" class=\"tip-link\">\u8c46\u74e3 5.0 \u5168\u65b0\u53d1\u5e03</a>\n",
      "      <a href=\"javascript: void 0;\" class=\"tip-close\">\u00d7</a>\n",
      "    </div>\n",
      "  </div>\n",
      "</div>\n",
      "'''\n",
      "from bs4 import BeautifulSoup\n",
      "soup = BeautifulSoup(html, 'lxml')\n",
      "print(soup.div.a['href'])\n",
      "print(soup.div.div.div.contents)"
     ],
     "language": "python",
     "metadata": {},
     "outputs": [
      {
       "output_type": "stream",
       "stream": "stdout",
       "text": [
        "https://www.douban.com/accounts/login?source=book\n",
        "['\\n', <a class=\"nav-login\" href=\"https://www.douban.com/accounts/login?source=book\" rel=\"nofollow\">\u767b\u5f55</a>, '\\n', <a class=\"nav-register\" href=\"https://www.douban.com/accounts/register?source=book\" rel=\"nofollow\">\u6ce8\u518c</a>, '\\n']\n"
       ]
      }
     ],
     "prompt_number": 22
    },
    {
     "cell_type": "code",
     "collapsed": false,
     "input": [
      "from bs4 import BeautifulSoup\n",
      "soup = BeautifulSoup(html, 'lxml')\n",
      "print(soup.div.children)\n",
      "for i, child in enumerate(soup.div.children):\n",
      "    print(i,child)"
     ],
     "language": "python",
     "metadata": {},
     "outputs": [
      {
       "output_type": "stream",
       "stream": "stdout",
       "text": [
        "<list_iterator object at 0x7f97ac054630>\n",
        "0 \n",
        "\n",
        "1 <div class=\"bd\">\n",
        "<div class=\"top-nav-info\">\n",
        "<a class=\"nav-login\" href=\"https://www.douban.com/accounts/login?source=book\" rel=\"nofollow\">\u767b\u5f55</a>\n",
        "<a class=\"nav-register\" href=\"https://www.douban.com/accounts/register?source=book\" rel=\"nofollow\">\u6ce8\u518c</a>\n",
        "</div>\n",
        "<div class=\"top-nav-doubanapp\">\n",
        "<a class=\"lnk-doubanapp\" href=\"https://www.douban.com/doubanapp/app?channel=top-nav\">\u4e0b\u8f7d\u8c46\u74e3\u5ba2\u6237\u7aef</a>\n",
        "<div class=\"more-items\" id=\"top-nav-appintro\">\n",
        "<p class=\"appintro-title\" name=\"douban\">\u8c46\u74e3</p>\n",
        "<p class=\"slogan\">\u6211\u4eec\u7684\u7cbe\u795e\u89d2\u843d</p>\n",
        "<p class=\"qrcode\">\u626b\u7801\u76f4\u63a5\u4e0b\u8f7d</p>\n",
        "<div class=\"download\">\n",
        "<a href=\"https://www.douban.com/doubanapp/redirect?channel=top-nav&amp;direct_dl=1&amp;download=iOS\">iPhone</a>\n",
        "<span>\u00b7</span>\n",
        "<a class=\"download-android\" href=\"https://www.douban.com/doubanapp/redirect?channel=top-nav&amp;direct_dl=1&amp;download=Android\">Android</a>\n",
        "</div>\n",
        "<div id=\"doubanapp-tip\">\n",
        "<a class=\"tip-link\" href=\"https://www.douban.com/doubanapp/app?channel=qipao\">\u8c46\u74e3 5.0 \u5168\u65b0\u53d1\u5e03</a>\n",
        "<a class=\"tip-close\" href=\"javascript: void 0;\">\u00d7</a>\n",
        "</div>\n",
        "</div>\n",
        "</div>\n",
        "</div>\n"
       ]
      }
     ],
     "prompt_number": 28
    },
    {
     "cell_type": "code",
     "collapsed": false,
     "input": [
      "from bs4 import BeautifulSoup\n",
      "soup = BeautifulSoup(html, 'lxml')\n",
      "print(soup.div.descendants)\n",
      "for i, child in enumerate(soup.div.descendants):\n",
      "    print(i,child)"
     ],
     "language": "python",
     "metadata": {},
     "outputs": [
      {
       "output_type": "stream",
       "stream": "stdout",
       "text": [
        "<generator object descendants at 0x7f97ac07d9e8>\n",
        "0 \n",
        "\n",
        "1 <div class=\"bd\">\n",
        "<div class=\"top-nav-info\">\n",
        "<a class=\"nav-login\" href=\"https://www.douban.com/accounts/login?source=book\" rel=\"nofollow\">\u767b\u5f55</a>\n",
        "<a class=\"nav-register\" href=\"https://www.douban.com/accounts/register?source=book\" rel=\"nofollow\">\u6ce8\u518c</a>\n",
        "</div>\n",
        "<div class=\"top-nav-doubanapp\">\n",
        "<a class=\"lnk-doubanapp\" href=\"https://www.douban.com/doubanapp/app?channel=top-nav\">\u4e0b\u8f7d\u8c46\u74e3\u5ba2\u6237\u7aef</a>\n",
        "<div class=\"more-items\" id=\"top-nav-appintro\">\n",
        "<p class=\"appintro-title\" name=\"douban\">\u8c46\u74e3</p>\n",
        "<p class=\"slogan\">\u6211\u4eec\u7684\u7cbe\u795e\u89d2\u843d</p>\n",
        "<p class=\"qrcode\">\u626b\u7801\u76f4\u63a5\u4e0b\u8f7d</p>\n",
        "<div class=\"download\">\n",
        "<a href=\"https://www.douban.com/doubanapp/redirect?channel=top-nav&amp;direct_dl=1&amp;download=iOS\">iPhone</a>\n",
        "<span>\u00b7</span>\n",
        "<a class=\"download-android\" href=\"https://www.douban.com/doubanapp/redirect?channel=top-nav&amp;direct_dl=1&amp;download=Android\">Android</a>\n",
        "</div>\n",
        "<div id=\"doubanapp-tip\">\n",
        "<a class=\"tip-link\" href=\"https://www.douban.com/doubanapp/app?channel=qipao\">\u8c46\u74e3 5.0 \u5168\u65b0\u53d1\u5e03</a>\n",
        "<a class=\"tip-close\" href=\"javascript: void 0;\">\u00d7</a>\n",
        "</div>\n",
        "</div>\n",
        "</div>\n",
        "</div>\n",
        "2 \n",
        "\n",
        "3 <div class=\"top-nav-info\">\n",
        "<a class=\"nav-login\" href=\"https://www.douban.com/accounts/login?source=book\" rel=\"nofollow\">\u767b\u5f55</a>\n",
        "<a class=\"nav-register\" href=\"https://www.douban.com/accounts/register?source=book\" rel=\"nofollow\">\u6ce8\u518c</a>\n",
        "</div>\n",
        "4 \n",
        "\n",
        "5 <a class=\"nav-login\" href=\"https://www.douban.com/accounts/login?source=book\" rel=\"nofollow\">\u767b\u5f55</a>\n",
        "6 \u767b\u5f55\n",
        "7 \n",
        "\n",
        "8 <a class=\"nav-register\" href=\"https://www.douban.com/accounts/register?source=book\" rel=\"nofollow\">\u6ce8\u518c</a>\n",
        "9 \u6ce8\u518c\n",
        "10 \n",
        "\n",
        "11 \n",
        "\n",
        "12 <div class=\"top-nav-doubanapp\">\n",
        "<a class=\"lnk-doubanapp\" href=\"https://www.douban.com/doubanapp/app?channel=top-nav\">\u4e0b\u8f7d\u8c46\u74e3\u5ba2\u6237\u7aef</a>\n",
        "<div class=\"more-items\" id=\"top-nav-appintro\">\n",
        "<p class=\"appintro-title\" name=\"douban\">\u8c46\u74e3</p>\n",
        "<p class=\"slogan\">\u6211\u4eec\u7684\u7cbe\u795e\u89d2\u843d</p>\n",
        "<p class=\"qrcode\">\u626b\u7801\u76f4\u63a5\u4e0b\u8f7d</p>\n",
        "<div class=\"download\">\n",
        "<a href=\"https://www.douban.com/doubanapp/redirect?channel=top-nav&amp;direct_dl=1&amp;download=iOS\">iPhone</a>\n",
        "<span>\u00b7</span>\n",
        "<a class=\"download-android\" href=\"https://www.douban.com/doubanapp/redirect?channel=top-nav&amp;direct_dl=1&amp;download=Android\">Android</a>\n",
        "</div>\n",
        "<div id=\"doubanapp-tip\">\n",
        "<a class=\"tip-link\" href=\"https://www.douban.com/doubanapp/app?channel=qipao\">\u8c46\u74e3 5.0 \u5168\u65b0\u53d1\u5e03</a>\n",
        "<a class=\"tip-close\" href=\"javascript: void 0;\">\u00d7</a>\n",
        "</div>\n",
        "</div>\n",
        "</div>\n",
        "13 \n",
        "\n",
        "14 <a class=\"lnk-doubanapp\" href=\"https://www.douban.com/doubanapp/app?channel=top-nav\">\u4e0b\u8f7d\u8c46\u74e3\u5ba2\u6237\u7aef</a>\n",
        "15 \u4e0b\u8f7d\u8c46\u74e3\u5ba2\u6237\u7aef\n",
        "16 \n",
        "\n",
        "17 <div class=\"more-items\" id=\"top-nav-appintro\">\n",
        "<p class=\"appintro-title\" name=\"douban\">\u8c46\u74e3</p>\n",
        "<p class=\"slogan\">\u6211\u4eec\u7684\u7cbe\u795e\u89d2\u843d</p>\n",
        "<p class=\"qrcode\">\u626b\u7801\u76f4\u63a5\u4e0b\u8f7d</p>\n",
        "<div class=\"download\">\n",
        "<a href=\"https://www.douban.com/doubanapp/redirect?channel=top-nav&amp;direct_dl=1&amp;download=iOS\">iPhone</a>\n",
        "<span>\u00b7</span>\n",
        "<a class=\"download-android\" href=\"https://www.douban.com/doubanapp/redirect?channel=top-nav&amp;direct_dl=1&amp;download=Android\">Android</a>\n",
        "</div>\n",
        "<div id=\"doubanapp-tip\">\n",
        "<a class=\"tip-link\" href=\"https://www.douban.com/doubanapp/app?channel=qipao\">\u8c46\u74e3 5.0 \u5168\u65b0\u53d1\u5e03</a>\n",
        "<a class=\"tip-close\" href=\"javascript: void 0;\">\u00d7</a>\n",
        "</div>\n",
        "</div>\n",
        "18 \n",
        "\n",
        "19 <p class=\"appintro-title\" name=\"douban\">\u8c46\u74e3</p>\n",
        "20 \u8c46\u74e3\n",
        "21 \n",
        "\n",
        "22 <p class=\"slogan\">\u6211\u4eec\u7684\u7cbe\u795e\u89d2\u843d</p>\n",
        "23 \u6211\u4eec\u7684\u7cbe\u795e\u89d2\u843d\n",
        "24 \n",
        "\n",
        "25 <p class=\"qrcode\">\u626b\u7801\u76f4\u63a5\u4e0b\u8f7d</p>\n",
        "26 \u626b\u7801\u76f4\u63a5\u4e0b\u8f7d\n",
        "27 \n",
        "\n",
        "28 <div class=\"download\">\n",
        "<a href=\"https://www.douban.com/doubanapp/redirect?channel=top-nav&amp;direct_dl=1&amp;download=iOS\">iPhone</a>\n",
        "<span>\u00b7</span>\n",
        "<a class=\"download-android\" href=\"https://www.douban.com/doubanapp/redirect?channel=top-nav&amp;direct_dl=1&amp;download=Android\">Android</a>\n",
        "</div>\n",
        "29 \n",
        "\n",
        "30 <a href=\"https://www.douban.com/doubanapp/redirect?channel=top-nav&amp;direct_dl=1&amp;download=iOS\">iPhone</a>\n",
        "31 iPhone\n",
        "32 \n",
        "\n",
        "33 <span>\u00b7</span>\n",
        "34 \u00b7\n",
        "35 \n",
        "\n",
        "36 <a class=\"download-android\" href=\"https://www.douban.com/doubanapp/redirect?channel=top-nav&amp;direct_dl=1&amp;download=Android\">Android</a>\n",
        "37 Android\n",
        "38 \n",
        "\n",
        "39 \n",
        "\n",
        "40 <div id=\"doubanapp-tip\">\n",
        "<a class=\"tip-link\" href=\"https://www.douban.com/doubanapp/app?channel=qipao\">\u8c46\u74e3 5.0 \u5168\u65b0\u53d1\u5e03</a>\n",
        "<a class=\"tip-close\" href=\"javascript: void 0;\">\u00d7</a>\n",
        "</div>\n",
        "41 \n",
        "\n",
        "42 <a class=\"tip-link\" href=\"https://www.douban.com/doubanapp/app?channel=qipao\">\u8c46\u74e3 5.0 \u5168\u65b0\u53d1\u5e03</a>\n",
        "43 \u8c46\u74e3 5.0 \u5168\u65b0\u53d1\u5e03\n",
        "44 \n",
        "\n",
        "45 <a class=\"tip-close\" href=\"javascript: void 0;\">\u00d7</a>\n",
        "46 \u00d7\n",
        "47 \n",
        "\n",
        "48 \n",
        "\n",
        "49 \n",
        "\n",
        "50 \n",
        "\n"
       ]
      }
     ],
     "prompt_number": 30
    },
    {
     "cell_type": "heading",
     "level": 4,
     "metadata": {},
     "source": [
      "\u7236\u8282\u70b9\u548c\u7956\u5148\u8282\u70b9"
     ]
    },
    {
     "cell_type": "code",
     "collapsed": false,
     "input": [
      "from bs4 import BeautifulSoup\n",
      "soup = BeautifulSoup(html, 'lxml')\n",
      "print(soup.a.parent)"
     ],
     "language": "python",
     "metadata": {},
     "outputs": [
      {
       "output_type": "stream",
       "stream": "stdout",
       "text": [
        "<div class=\"top-nav-info\">\n",
        "<a class=\"nav-login\" href=\"https://www.douban.com/accounts/login?source=book\" rel=\"nofollow\">\u767b\u5f55</a>\n",
        "<a class=\"nav-register\" href=\"https://www.douban.com/accounts/register?source=book\" rel=\"nofollow\">\u6ce8\u518c</a>\n",
        "</div>\n"
       ]
      }
     ],
     "prompt_number": 31
    },
    {
     "cell_type": "code",
     "collapsed": false,
     "input": [
      "from bs4 import BeautifulSoup\n",
      "soup = BeautifulSoup(html, 'lxml')\n",
      "print(list(enumerate(soup.a.parents)))"
     ],
     "language": "python",
     "metadata": {},
     "outputs": [
      {
       "output_type": "stream",
       "stream": "stdout",
       "text": [
        "[(0, <div class=\"top-nav-info\">\n",
        "<a class=\"nav-login\" href=\"https://www.douban.com/accounts/login?source=book\" rel=\"nofollow\">\u767b\u5f55</a>\n",
        "<a class=\"nav-register\" href=\"https://www.douban.com/accounts/register?source=book\" rel=\"nofollow\">\u6ce8\u518c</a>\n",
        "</div>), (1, <div class=\"bd\">\n",
        "<div class=\"top-nav-info\">\n",
        "<a class=\"nav-login\" href=\"https://www.douban.com/accounts/login?source=book\" rel=\"nofollow\">\u767b\u5f55</a>\n",
        "<a class=\"nav-register\" href=\"https://www.douban.com/accounts/register?source=book\" rel=\"nofollow\">\u6ce8\u518c</a>\n",
        "</div>\n",
        "<div class=\"top-nav-doubanapp\">\n",
        "<a class=\"lnk-doubanapp\" href=\"https://www.douban.com/doubanapp/app?channel=top-nav\">\u4e0b\u8f7d\u8c46\u74e3\u5ba2\u6237\u7aef</a>\n",
        "<div class=\"more-items\" id=\"top-nav-appintro\">\n",
        "<p class=\"appintro-title\" name=\"douban\">\u8c46\u74e3</p>\n",
        "<p class=\"slogan\">\u6211\u4eec\u7684\u7cbe\u795e\u89d2\u843d</p>\n",
        "<p class=\"qrcode\">\u626b\u7801\u76f4\u63a5\u4e0b\u8f7d</p>\n",
        "<div class=\"download\">\n",
        "<a href=\"https://www.douban.com/doubanapp/redirect?channel=top-nav&amp;direct_dl=1&amp;download=iOS\">iPhone</a>\n",
        "<span>\u00b7</span>\n",
        "<a class=\"download-android\" href=\"https://www.douban.com/doubanapp/redirect?channel=top-nav&amp;direct_dl=1&amp;download=Android\">Android</a>\n",
        "</div>\n",
        "<div id=\"doubanapp-tip\">\n",
        "<a class=\"tip-link\" href=\"https://www.douban.com/doubanapp/app?channel=qipao\">\u8c46\u74e3 5.0 \u5168\u65b0\u53d1\u5e03</a>\n",
        "<a class=\"tip-close\" href=\"javascript: void 0;\">\u00d7</a>\n",
        "</div>\n",
        "</div>\n",
        "</div>\n",
        "</div>), (2, <div class=\"global-nav\" id=\"db-global-nav\">\n",
        "<div class=\"bd\">\n",
        "<div class=\"top-nav-info\">\n",
        "<a class=\"nav-login\" href=\"https://www.douban.com/accounts/login?source=book\" rel=\"nofollow\">\u767b\u5f55</a>\n",
        "<a class=\"nav-register\" href=\"https://www.douban.com/accounts/register?source=book\" rel=\"nofollow\">\u6ce8\u518c</a>\n",
        "</div>\n",
        "<div class=\"top-nav-doubanapp\">\n",
        "<a class=\"lnk-doubanapp\" href=\"https://www.douban.com/doubanapp/app?channel=top-nav\">\u4e0b\u8f7d\u8c46\u74e3\u5ba2\u6237\u7aef</a>\n",
        "<div class=\"more-items\" id=\"top-nav-appintro\">\n",
        "<p class=\"appintro-title\" name=\"douban\">\u8c46\u74e3</p>\n",
        "<p class=\"slogan\">\u6211\u4eec\u7684\u7cbe\u795e\u89d2\u843d</p>\n",
        "<p class=\"qrcode\">\u626b\u7801\u76f4\u63a5\u4e0b\u8f7d</p>\n",
        "<div class=\"download\">\n",
        "<a href=\"https://www.douban.com/doubanapp/redirect?channel=top-nav&amp;direct_dl=1&amp;download=iOS\">iPhone</a>\n",
        "<span>\u00b7</span>\n",
        "<a class=\"download-android\" href=\"https://www.douban.com/doubanapp/redirect?channel=top-nav&amp;direct_dl=1&amp;download=Android\">Android</a>\n",
        "</div>\n",
        "<div id=\"doubanapp-tip\">\n",
        "<a class=\"tip-link\" href=\"https://www.douban.com/doubanapp/app?channel=qipao\">\u8c46\u74e3 5.0 \u5168\u65b0\u53d1\u5e03</a>\n",
        "<a class=\"tip-close\" href=\"javascript: void 0;\">\u00d7</a>\n",
        "</div>\n",
        "</div>\n",
        "</div>\n",
        "</div></div>), (3, <body><div class=\"global-nav\" id=\"db-global-nav\">\n",
        "<div class=\"bd\">\n",
        "<div class=\"top-nav-info\">\n",
        "<a class=\"nav-login\" href=\"https://www.douban.com/accounts/login?source=book\" rel=\"nofollow\">\u767b\u5f55</a>\n",
        "<a class=\"nav-register\" href=\"https://www.douban.com/accounts/register?source=book\" rel=\"nofollow\">\u6ce8\u518c</a>\n",
        "</div>\n",
        "<div class=\"top-nav-doubanapp\">\n",
        "<a class=\"lnk-doubanapp\" href=\"https://www.douban.com/doubanapp/app?channel=top-nav\">\u4e0b\u8f7d\u8c46\u74e3\u5ba2\u6237\u7aef</a>\n",
        "<div class=\"more-items\" id=\"top-nav-appintro\">\n",
        "<p class=\"appintro-title\" name=\"douban\">\u8c46\u74e3</p>\n",
        "<p class=\"slogan\">\u6211\u4eec\u7684\u7cbe\u795e\u89d2\u843d</p>\n",
        "<p class=\"qrcode\">\u626b\u7801\u76f4\u63a5\u4e0b\u8f7d</p>\n",
        "<div class=\"download\">\n",
        "<a href=\"https://www.douban.com/doubanapp/redirect?channel=top-nav&amp;direct_dl=1&amp;download=iOS\">iPhone</a>\n",
        "<span>\u00b7</span>\n",
        "<a class=\"download-android\" href=\"https://www.douban.com/doubanapp/redirect?channel=top-nav&amp;direct_dl=1&amp;download=Android\">Android</a>\n",
        "</div>\n",
        "<div id=\"doubanapp-tip\">\n",
        "<a class=\"tip-link\" href=\"https://www.douban.com/doubanapp/app?channel=qipao\">\u8c46\u74e3 5.0 \u5168\u65b0\u53d1\u5e03</a>\n",
        "<a class=\"tip-close\" href=\"javascript: void 0;\">\u00d7</a>\n",
        "</div>\n",
        "</div>\n",
        "</div>\n",
        "</div></div></body>), (4, <html><head><title>\n",
        "    \u8c46\u74e3\u8bfb\u4e66\n",
        "</title>\n",
        "</head><body><div class=\"global-nav\" id=\"db-global-nav\">\n",
        "<div class=\"bd\">\n",
        "<div class=\"top-nav-info\">\n",
        "<a class=\"nav-login\" href=\"https://www.douban.com/accounts/login?source=book\" rel=\"nofollow\">\u767b\u5f55</a>\n",
        "<a class=\"nav-register\" href=\"https://www.douban.com/accounts/register?source=book\" rel=\"nofollow\">\u6ce8\u518c</a>\n",
        "</div>\n",
        "<div class=\"top-nav-doubanapp\">\n",
        "<a class=\"lnk-doubanapp\" href=\"https://www.douban.com/doubanapp/app?channel=top-nav\">\u4e0b\u8f7d\u8c46\u74e3\u5ba2\u6237\u7aef</a>\n",
        "<div class=\"more-items\" id=\"top-nav-appintro\">\n",
        "<p class=\"appintro-title\" name=\"douban\">\u8c46\u74e3</p>\n",
        "<p class=\"slogan\">\u6211\u4eec\u7684\u7cbe\u795e\u89d2\u843d</p>\n",
        "<p class=\"qrcode\">\u626b\u7801\u76f4\u63a5\u4e0b\u8f7d</p>\n",
        "<div class=\"download\">\n",
        "<a href=\"https://www.douban.com/doubanapp/redirect?channel=top-nav&amp;direct_dl=1&amp;download=iOS\">iPhone</a>\n",
        "<span>\u00b7</span>\n",
        "<a class=\"download-android\" href=\"https://www.douban.com/doubanapp/redirect?channel=top-nav&amp;direct_dl=1&amp;download=Android\">Android</a>\n",
        "</div>\n",
        "<div id=\"doubanapp-tip\">\n",
        "<a class=\"tip-link\" href=\"https://www.douban.com/doubanapp/app?channel=qipao\">\u8c46\u74e3 5.0 \u5168\u65b0\u53d1\u5e03</a>\n",
        "<a class=\"tip-close\" href=\"javascript: void 0;\">\u00d7</a>\n",
        "</div>\n",
        "</div>\n",
        "</div>\n",
        "</div></div></body></html>), (5, <html><head><title>\n",
        "    \u8c46\u74e3\u8bfb\u4e66\n",
        "</title>\n",
        "</head><body><div class=\"global-nav\" id=\"db-global-nav\">\n",
        "<div class=\"bd\">\n",
        "<div class=\"top-nav-info\">\n",
        "<a class=\"nav-login\" href=\"https://www.douban.com/accounts/login?source=book\" rel=\"nofollow\">\u767b\u5f55</a>\n",
        "<a class=\"nav-register\" href=\"https://www.douban.com/accounts/register?source=book\" rel=\"nofollow\">\u6ce8\u518c</a>\n",
        "</div>\n",
        "<div class=\"top-nav-doubanapp\">\n",
        "<a class=\"lnk-doubanapp\" href=\"https://www.douban.com/doubanapp/app?channel=top-nav\">\u4e0b\u8f7d\u8c46\u74e3\u5ba2\u6237\u7aef</a>\n",
        "<div class=\"more-items\" id=\"top-nav-appintro\">\n",
        "<p class=\"appintro-title\" name=\"douban\">\u8c46\u74e3</p>\n",
        "<p class=\"slogan\">\u6211\u4eec\u7684\u7cbe\u795e\u89d2\u843d</p>\n",
        "<p class=\"qrcode\">\u626b\u7801\u76f4\u63a5\u4e0b\u8f7d</p>\n",
        "<div class=\"download\">\n",
        "<a href=\"https://www.douban.com/doubanapp/redirect?channel=top-nav&amp;direct_dl=1&amp;download=iOS\">iPhone</a>\n",
        "<span>\u00b7</span>\n",
        "<a class=\"download-android\" href=\"https://www.douban.com/doubanapp/redirect?channel=top-nav&amp;direct_dl=1&amp;download=Android\">Android</a>\n",
        "</div>\n",
        "<div id=\"doubanapp-tip\">\n",
        "<a class=\"tip-link\" href=\"https://www.douban.com/doubanapp/app?channel=qipao\">\u8c46\u74e3 5.0 \u5168\u65b0\u53d1\u5e03</a>\n",
        "<a class=\"tip-close\" href=\"javascript: void 0;\">\u00d7</a>\n",
        "</div>\n",
        "</div>\n",
        "</div>\n",
        "</div></div></body></html>)]\n"
       ]
      }
     ],
     "prompt_number": 33
    },
    {
     "cell_type": "heading",
     "level": 4,
     "metadata": {},
     "source": [
      "\u5144\u5f1f\u8282\u70b9"
     ]
    },
    {
     "cell_type": "code",
     "collapsed": false,
     "input": [
      "from bs4 import BeautifulSoup\n",
      "soup = BeautifulSoup(html, 'lxml')\n",
      "print(list(enumerate(soup.a.next_siblings)))\n",
      "print(list(enumerate(soup.a.previous_siblings)))"
     ],
     "language": "python",
     "metadata": {},
     "outputs": [
      {
       "output_type": "stream",
       "stream": "stdout",
       "text": [
        "[(0, '\\n'), (1, <a class=\"nav-register\" href=\"https://www.douban.com/accounts/register?source=book\" rel=\"nofollow\">\u6ce8\u518c</a>), (2, '\\n')]\n",
        "[(0, '\\n')]\n"
       ]
      }
     ],
     "prompt_number": 34
    },
    {
     "cell_type": "heading",
     "level": 2,
     "metadata": {},
     "source": [
      "\u6807\u51c6\u9009\u62e9\u5668"
     ]
    },
    {
     "cell_type": "heading",
     "level": 4,
     "metadata": {},
     "source": [
      "find_all(name, attrs, recursive, text, **kwargs)"
     ]
    },
    {
     "cell_type": "heading",
     "level": 6,
     "metadata": {},
     "source": [
      "\u53ef\u6839\u636e\u8868\u7b7e\u540d\uff0c\u5c5e\u6027\u8fd8\u6709\u5185\u5bb9\u6765\u67e5\u627e\u6587\u6863"
     ]
    },
    {
     "cell_type": "heading",
     "level": 4,
     "metadata": {},
     "source": [
      "name  \u6807\u7b7e\u540d"
     ]
    },
    {
     "cell_type": "code",
     "collapsed": false,
     "input": [
      "from bs4 import BeautifulSoup\n",
      "soup = BeautifulSoup(html, 'lxml')\n",
      "print(soup.find_all('a'))\n",
      "print(type(soup.find_all('a')[0]))"
     ],
     "language": "python",
     "metadata": {},
     "outputs": [
      {
       "output_type": "stream",
       "stream": "stdout",
       "text": [
        "[<a class=\"nav-login\" href=\"https://www.douban.com/accounts/login?source=book\" rel=\"nofollow\">\u767b\u5f55</a>, <a class=\"nav-register\" href=\"https://www.douban.com/accounts/register?source=book\" rel=\"nofollow\">\u6ce8\u518c</a>, <a class=\"lnk-doubanapp\" href=\"https://www.douban.com/doubanapp/app?channel=top-nav\">\u4e0b\u8f7d\u8c46\u74e3\u5ba2\u6237\u7aef</a>, <a href=\"https://www.douban.com/doubanapp/redirect?channel=top-nav&amp;direct_dl=1&amp;download=iOS\">iPhone</a>, <a class=\"download-android\" href=\"https://www.douban.com/doubanapp/redirect?channel=top-nav&amp;direct_dl=1&amp;download=Android\">Android</a>, <a class=\"tip-link\" href=\"https://www.douban.com/doubanapp/app?channel=qipao\">\u8c46\u74e3 5.0 \u5168\u65b0\u53d1\u5e03</a>, <a class=\"tip-close\" href=\"javascript: void 0;\">\u00d7</a>]\n",
        "<class 'bs4.element.Tag'>\n"
       ]
      }
     ],
     "prompt_number": 37
    },
    {
     "cell_type": "code",
     "collapsed": false,
     "input": [
      "\n",
      "from bs4 import BeautifulSoup\n",
      "soup = BeautifulSoup(html, 'lxml')\n",
      "for ul in soup.find_all('ul'):\n",
      "    print(ul.find_all('a'))"
     ],
     "language": "python",
     "metadata": {},
     "outputs": [
      {
       "output_type": "stream",
       "stream": "stdout",
       "text": [
        "[]\n",
        "[<a href=\"https://www.douban.com/doubanapp/redirect?channel=top-nav&amp;direct_dl=1&amp;download=iOS\">iPhone</a>, <a class=\"download-android\" href=\"https://www.douban.com/doubanapp/redirect?channel=top-nav&amp;direct_dl=1&amp;download=Android\">Android</a>]\n"
       ]
      }
     ],
     "prompt_number": 40
    },
    {
     "cell_type": "heading",
     "level": 3,
     "metadata": {},
     "source": [
      "attrs"
     ]
    },
    {
     "cell_type": "code",
     "collapsed": false,
     "input": [
      "from bs4 import BeautifulSoup\n",
      "soup = BeautifulSoup(html, 'lxml')\n",
      "print(soup.find_all(attrs={'class': 'qrcode'}))\n",
      "print(soup.find_all(attrs={'class': 'slogan'}))"
     ],
     "language": "python",
     "metadata": {},
     "outputs": [
      {
       "output_type": "stream",
       "stream": "stdout",
       "text": [
        "[<p class=\"qrcode\">\u626b\u7801\u76f4\u63a5\u4e0b\u8f7d</p>, <p class=\"qrcode\">\u626b\u7801\u76f4\u63a5\u4e0b\u8f7d</p>]\n",
        "[<p class=\"slogan\">\u6211\u4eec\u7684\u7cbe\u795e\u89d2\u843d</p>, <p class=\"slogan\">\u6211\u4eec\u7684\u7cbe\u795e\u89d2\u843d</p>]\n"
       ]
      }
     ],
     "prompt_number": 44
    },
    {
     "cell_type": "code",
     "collapsed": false,
     "input": [
      "from bs4 import BeautifulSoup\n",
      "soup = BeautifulSoup(html, 'lxml')\n",
      "print(soup.find_all(class_='qrcode'))"
     ],
     "language": "python",
     "metadata": {},
     "outputs": [
      {
       "output_type": "stream",
       "stream": "stdout",
       "text": [
        "[<p class=\"qrcode\">\u626b\u7801\u76f4\u63a5\u4e0b\u8f7d</p>, <p class=\"qrcode\">\u626b\u7801\u76f4\u63a5\u4e0b\u8f7d</p>]\n"
       ]
      }
     ],
     "prompt_number": 45
    },
    {
     "cell_type": "heading",
     "level": 3,
     "metadata": {},
     "source": [
      "text"
     ]
    },
    {
     "cell_type": "code",
     "collapsed": false,
     "input": [
      "\n",
      "html = '''\n",
      "\n",
      "    <title>\n",
      "    \u8c46\u74e3\u8bfb\u4e66\n",
      "</title>\n",
      "<div id=\"db-global-nav\" class=\"global-nav\">\n",
      "  <div class=\"bd\">\n",
      "    \n",
      "<div class=\"top-nav-info\">\n",
      "  <a href=\"https://www.douban.com/accounts/login?source=book\" class=\"nav-login\" rel=\"nofollow\">\u767b\u5f55</a>\n",
      "  <a href=\"https://www.douban.com/accounts/register?source=book\" class=\"nav-register\" rel=\"nofollow\">\u6ce8\u518c</a>\n",
      "</div>\n",
      "\n",
      "\n",
      "    \n",
      "<div class=\"top-nav-doubanapp\">\n",
      "  <a href=\"https://www.douban.com/doubanapp/app?channel=top-nav\" class=\"lnk-doubanapp\">\u4e0b\u8f7d\u8c46\u74e3\u5ba2\u6237\u7aef</a>\n",
      "  <div id=\"top-nav-appintro\" class=\"more-items\">\n",
      "  <ul>\n",
      "    <p class=\"appintro-title\" name=\"douban\" >\u8c46\u74e3</p>\n",
      "    <p class=\"slogan\">\u6211\u4eec\u7684\u7cbe\u795e\u89d2\u843d</p>\n",
      "    <p class=\"qrcode\">\u626b\u7801\u76f4\u63a5\u4e0b\u8f7d</p>\n",
      "</ul>\n",
      "    <div class=\"download\">\n",
      "    <ul>\n",
      "      <a href=\"https://www.douban.com/doubanapp/redirect?channel=top-nav&direct_dl=1&download=iOS\">iPhone</a>\n",
      "      <span>\u00b7</span>\n",
      "      <a href=\"https://www.douban.com/doubanapp/redirect?channel=top-nav&direct_dl=1&download=Android\" class=\"download-android\">Android</a>\n",
      "      </ul>\n",
      "        <ul>\n",
      "    <p class=\"appintro-title\" name=\"douban\" >\u8c46\u74e3</p>\n",
      "    <p class=\"slogan\">\u6211\u4eec\u7684\u7cbe\u795e\u89d2\u843d</p>\n",
      "    <p class=\"qrcode\">\u626b\u7801\u76f4\u63a5\u4e0b\u8f7d</p>\n",
      "</ul>\n",
      "    </div>\n",
      "    <div id=\"doubanapp-tip\">\n",
      "      <a href=\"https://www.douban.com/doubanapp/app?channel=qipao\" class=\"tip-link\">\u8c46\u74e3 5.0 \u5168\u65b0\u53d1\u5e03</a>\n",
      "      <a href=\"javascript: void 0;\" class=\"tip-close\">\u00d7</a>\n",
      "    </div>\n",
      "  </div>\n",
      "</div>\n",
      "'''\n",
      "from bs4 import BeautifulSoup\n",
      "soup = BeautifulSoup(html, 'lxml')\n",
      "print(soup.find_all(text='\u8c46\u74e3'))"
     ],
     "language": "python",
     "metadata": {},
     "outputs": [
      {
       "output_type": "stream",
       "stream": "stdout",
       "text": [
        "['\u8c46\u74e3', '\u8c46\u74e3']\n"
       ]
      }
     ],
     "prompt_number": 49
    },
    {
     "cell_type": "heading",
     "level": 3,
     "metadata": {},
     "source": [
      "find(name, attrs, recursive, text, **kwargs)"
     ]
    },
    {
     "cell_type": "markdown",
     "metadata": {},
     "source": [
      "find\u8fd4\u56de\u5355\u4e2a\u5143\u7d20\uff0cfind_all\u8fd4\u56de\u6240\u6709\u5143\u7d20"
     ]
    },
    {
     "cell_type": "code",
     "collapsed": false,
     "input": [
      "html = '''\n",
      "    <title>\n",
      "    \u8c46\u74e3\u8bfb\u4e66\n",
      "</title>\n",
      "<div id=\"db-global-nav\" class=\"global-nav\">\n",
      "  <div class=\"bd\">\n",
      "    \n",
      "<div class=\"top-nav-info\">\n",
      "  <a href=\"https://www.douban.com/accounts/login?source=book\" class=\"nav-login\" rel=\"nofollow\">\u767b\u5f55</a>\n",
      "  <a href=\"https://www.douban.com/accounts/register?source=book\" class=\"nav-register\" rel=\"nofollow\">\u6ce8\u518c</a>\n",
      "</div> \n",
      "<div class=\"top-nav-doubanapp\">\n",
      "  <a href=\"https://www.douban.com/doubanapp/app?channel=top-nav\" class=\"lnk-doubanapp\">\u4e0b\u8f7d\u8c46\u74e3\u5ba2\u6237\u7aef</a>\n",
      "  <div id=\"top-nav-appintro\" class=\"more-items\">\n",
      "  <ul>\n",
      "    <p class=\"appintro-title\" name=\"douban\" >\u8c46\u74e3</p>\n",
      "    <p class=\"slogan\">\u6211\u4eec\u7684\u7cbe\u795e\u89d2\u843d</p>\n",
      "    <p class=\"qrcode\">\u626b\u7801\u76f4\u63a5\u4e0b\u8f7d</p>\n",
      "</ul>\n",
      "    <div class=\"download\">\n",
      "    <ul>\n",
      "      <a href=\"https://www.douban.com/doubanapp/redirect?channel=top-nav&direct_dl=1&download=iOS\">iPhone</a>\n",
      "      <span>\u00b7</span>\n",
      "      <a href=\"https://www.douban.com/doubanapp/redirect?channel=top-nav&direct_dl=1&download=Android\" class=\"download-android\">Android</a>\n",
      "      </ul>\n",
      "        <ul>\n",
      "    <p class=\"appintro-title\" name=\"douban\" >\u8c46\u74e3</p>\n",
      "    <p class=\"slogan\">\u6211\u4eec\u7684\u7cbe\u795e\u89d2\u843d</p>\n",
      "    <p class=\"qrcode\">\u626b\u7801\u76f4\u63a5\u4e0b\u8f7d</p>\n",
      "</ul>\n",
      "    </div>\n",
      "    <div id=\"doubanapp-tip\">\n",
      "      <a href=\"https://www.douban.com/doubanapp/app?channel=qipao\" class=\"tip-link\">\u8c46\u74e3 5.0 \u5168\u65b0\u53d1\u5e03</a>\n",
      "      <a href=\"javascript: void 0;\" class=\"tip-close\">\u00d7</a>\n",
      "    </div>\n",
      "  </div>\n",
      "</div>\n",
      "'''\n",
      "from bs4 import BeautifulSoup\n",
      "soup = BeautifulSoup(html, 'lxml')\n",
      "print(soup.find('ul'))\n",
      "print(type(soup.find('ul')))\n",
      "print(soup.find('p'))"
     ],
     "language": "python",
     "metadata": {},
     "outputs": [
      {
       "output_type": "stream",
       "stream": "stdout",
       "text": [
        "<ul>\n",
        "<p class=\"appintro-title\" name=\"douban\">\u8c46\u74e3</p>\n",
        "<p class=\"slogan\">\u6211\u4eec\u7684\u7cbe\u795e\u89d2\u843d</p>\n",
        "<p class=\"qrcode\">\u626b\u7801\u76f4\u63a5\u4e0b\u8f7d</p>\n",
        "</ul>\n",
        "<class 'bs4.element.Tag'>\n",
        "<p class=\"appintro-title\" name=\"douban\">\u8c46\u74e3</p>\n"
       ]
      }
     ],
     "prompt_number": 53
    },
    {
     "cell_type": "heading",
     "level": 3,
     "metadata": {},
     "source": [
      "find_parents() find_parent()"
     ]
    },
    {
     "cell_type": "markdown",
     "metadata": {},
     "source": [
      "find_parents()\u8fd4\u56de\u6240\u6709\u7956\u5148\u8282\u70b9\uff0c find_parent()\u8fd4\u56de\u76f4\u63a5\u7236\u8282\u70b9\u3002"
     ]
    },
    {
     "cell_type": "heading",
     "level": 3,
     "metadata": {},
     "source": [
      "find_next_siblings() find_next_sibling()"
     ]
    },
    {
     "cell_type": "markdown",
     "metadata": {},
     "source": [
      "find_next_siblings()\u8fd4\u56de\u540e\u9762\u6240\u6709\u5144\u5f1f\u8282\u70b9 find_next_sibling()\u8fd4\u56de\u540e\u9762\u7b2c\u4e00\u4e2a\u5144\u5f1f\u8282\u70b9"
     ]
    },
    {
     "cell_type": "heading",
     "level": 3,
     "metadata": {},
     "source": [
      "find_previous_siblings()  find_previous_sibling()"
     ]
    },
    {
     "cell_type": "markdown",
     "metadata": {},
     "source": [
      "find_previous_siblings()\u8fd4\u56de\u524d\u9762\u6240\u6709\u5144\u5f1f\u8282\u70b9  find_previous_sibling()\u8fd4\u56de\u524d\u9762\u7b2c\u4e00\u4e2a\u5144\u5f1f\u8282\u70b9"
     ]
    },
    {
     "cell_type": "heading",
     "level": 3,
     "metadata": {},
     "source": [
      "find_all_next()  find_next()"
     ]
    },
    {
     "cell_type": "markdown",
     "metadata": {},
     "source": [
      "find_all_next()\u8fd4\u56de\u8282\u70b9\u540e\u6240\u6709\u7b26\u5408\u6761\u4ef6\u7684\u8282\u70b9\uff0cfind_next()\u8fd4\u56de\u7b2c\u4e00\u4e2a\u7b26\u5408\u6761\u4ef6\u7684\u8282\u70b9"
     ]
    },
    {
     "cell_type": "heading",
     "level": 3,
     "metadata": {},
     "source": [
      "find_all_previous()\u548cfind_previous()"
     ]
    },
    {
     "cell_type": "markdown",
     "metadata": {},
     "source": [
      "find_all_previous()\u8fd4\u56de\u8282\u70b9\u540e\u6240\u6709\u7b26\u5408\u6761\u4ef6\u7684\u8282\u70b9  find_previous()\u8fd4\u56de\u7b2c\u4e00\u4e2a\u7b26\u5408\u6761\u4ef6\u7684\u8282\u70b9"
     ]
    },
    {
     "cell_type": "heading",
     "level": 1,
     "metadata": {},
     "source": [
      "CSS\u9009\u62e9\u5668"
     ]
    },
    {
     "cell_type": "markdown",
     "metadata": {},
     "source": [
      "\u901a\u8fc7select()\u76f4\u63a5\u4f20\u5165css\u9009\u62e9\u5668\u53ef\u5b8c\u6210\u9009\u62e9"
     ]
    },
    {
     "cell_type": "code",
     "collapsed": false,
     "input": [
      "html = '''\n",
      "    <title>\n",
      "    \u8c46\u74e3\u8bfb\u4e66\n",
      "</title>\n",
      "<div id=\"db-global-nav\" class=\"global-nav\">\n",
      "  <div class=\"bd\">\n",
      "    \n",
      "<div class=\"top-nav-info\">\n",
      "  <a href=\"https://www.douban.com/accounts/login?source=book\" class=\"nav-login\" rel=\"nofollow\">\u767b\u5f55</a>\n",
      "  <a href=\"https://www.douban.com/accounts/register?source=book\" class=\"nav-register\" rel=\"nofollow\">\u6ce8\u518c</a>\n",
      "</div> \n",
      "<div class=\"top-nav-doubanapp\">\n",
      "  <a href=\"https://www.douban.com/doubanapp/app?channel=top-nav\" class=\"lnk-doubanapp\">\u4e0b\u8f7d\u8c46\u74e3\u5ba2\u6237\u7aef</a>\n",
      "  <div id=\"top-nav-appintro\" class=\"more-items\">\n",
      "  <ul>\n",
      "    <p class=\"appintro-title\" name=\"douban\" >\u8c46\u74e3</p>\n",
      "    <p class=\"slogan\">\u6211\u4eec\u7684\u7cbe\u795e\u89d2\u843d</p>\n",
      "    <p class=\"qrcode\">\u626b\u7801\u76f4\u63a5\u4e0b\u8f7d</p>\n",
      "</ul>\n",
      "    <div class=\"download\">\n",
      "    <ul>\n",
      "      <a href=\"https://www.douban.com/doubanapp/redirect?channel=top-nav&direct_dl=1&download=iOS\">iPhone</a>\n",
      "      <span>\u00b7</span>\n",
      "      <a href=\"https://www.douban.com/doubanapp/redirect?channel=top-nav&direct_dl=1&download=Android\" class=\"download-android\">Android</a>\n",
      "      </ul>\n",
      "        <ul>\n",
      "    <p class=\"appintro-title\" name=\"douban\" >1\u8c46\u74e3</p>\n",
      "    <p class=\"slogan\">1\u6211\u4eec\u7684\u7cbe\u795e\u89d2\u843d</p>\n",
      "    <p class=\"qrcode\">1\u626b\u7801\u76f4\u63a5\u4e0b\u8f7d</p>\n",
      "</ul>\n",
      "    </div>\n",
      "    <div id=\"doubanapp-tip\">\n",
      "      <a href=\"https://www.douban.com/doubanapp/app?channel=qipao\" class=\"tip-link\">\u8c46\u74e3 5.0 \u5168\u65b0\u53d1\u5e03</a>\n",
      "      <a href=\"javascript: void 0;\" class=\"tip-close\">\u00d7</a>\n",
      "    </div>\n",
      "  </div>\n",
      "</div>\n",
      "'''\n",
      "from bs4 import BeautifulSoup\n",
      "soup = BeautifulSoup(html, 'lxml')\n",
      "print(soup.select('.download a'))\n",
      "print(soup.select('ul p'))"
     ],
     "language": "python",
     "metadata": {},
     "outputs": [
      {
       "output_type": "stream",
       "stream": "stdout",
       "text": [
        "[<a href=\"https://www.douban.com/doubanapp/redirect?channel=top-nav&amp;direct_dl=1&amp;download=iOS\">iPhone</a>, <a class=\"download-android\" href=\"https://www.douban.com/doubanapp/redirect?channel=top-nav&amp;direct_dl=1&amp;download=Android\">Android</a>]\n",
        "[<p class=\"appintro-title\" name=\"douban\">\u8c46\u74e3</p>, <p class=\"slogan\">\u6211\u4eec\u7684\u7cbe\u795e\u89d2\u843d</p>, <p class=\"qrcode\">\u626b\u7801\u76f4\u63a5\u4e0b\u8f7d</p>, <p class=\"appintro-title\" name=\"douban\">1\u8c46\u74e3</p>, <p class=\"slogan\">1\u6211\u4eec\u7684\u7cbe\u795e\u89d2\u843d</p>, <p class=\"qrcode\">1\u626b\u7801\u76f4\u63a5\u4e0b\u8f7d</p>]\n"
       ]
      }
     ],
     "prompt_number": 58
    },
    {
     "cell_type": "code",
     "collapsed": false,
     "input": [
      "from bs4 import BeautifulSoup\n",
      "soup = BeautifulSoup(html, 'lxml')\n",
      "for ul in soup.select('ul'):\n",
      "    print(ul.select('p'))"
     ],
     "language": "python",
     "metadata": {},
     "outputs": [
      {
       "output_type": "stream",
       "stream": "stdout",
       "text": [
        "[<p class=\"appintro-title\" name=\"douban\">\u8c46\u74e3</p>, <p class=\"slogan\">\u6211\u4eec\u7684\u7cbe\u795e\u89d2\u843d</p>, <p class=\"qrcode\">\u626b\u7801\u76f4\u63a5\u4e0b\u8f7d</p>]\n",
        "[]\n",
        "[<p class=\"appintro-title\" name=\"douban\">1\u8c46\u74e3</p>, <p class=\"slogan\">1\u6211\u4eec\u7684\u7cbe\u795e\u89d2\u843d</p>, <p class=\"qrcode\">1\u626b\u7801\u76f4\u63a5\u4e0b\u8f7d</p>]\n"
       ]
      }
     ],
     "prompt_number": 59
    },
    {
     "cell_type": "heading",
     "level": 3,
     "metadata": {},
     "source": [
      "\u83b7\u53d6\u5c5e\u6027"
     ]
    },
    {
     "cell_type": "code",
     "collapsed": false,
     "input": [
      "html = '''\n",
      "    <title>\n",
      "    \u8c46\u74e3\u8bfb\u4e66\n",
      "</title>\n",
      "<div id=\"db-global-nav\" class=\"global-nav\">\n",
      "  <div class=\"bd\">\n",
      "    \n",
      "<div class=\"top-nav-info\">\n",
      "  <a href=\"https://www.douban.com/accounts/login?source=book\" class=\"nav-login\" rel=\"nofollow\">\u767b\u5f55</a>\n",
      "  <a href=\"https://www.douban.com/accounts/register?source=book\" class=\"nav-register\" rel=\"nofollow\">\u6ce8\u518c</a>\n",
      "</div> \n",
      "<div class=\"top-nav-doubanapp\">\n",
      "  <a href=\"https://www.douban.com/doubanapp/app?channel=top-nav\" class=\"lnk-doubanapp\">\u4e0b\u8f7d\u8c46\u74e3\u5ba2\u6237\u7aef</a>\n",
      "  <div id=\"top-nav-appintro\" class=\"more-items\">\n",
      "  <ul>\n",
      "    <p class=\"appintro-title\" name=\"douban\" >\u8c46\u74e3</p>\n",
      "    <p class=\"slogan\">\u6211\u4eec\u7684\u7cbe\u795e\u89d2\u843d</p>\n",
      "    <p class=\"qrcode\">\u626b\u7801\u76f4\u63a5\u4e0b\u8f7d</p>\n",
      "</ul>\n",
      "    <div class=\"download\">\n",
      "    <ul>\n",
      "      <a href=\"https://www.douban.com/doubanapp/redirect?channel=top-nav&direct_dl=1&download=iOS\">iPhone</a>\n",
      "      <span>\u00b7</span>\n",
      "      <a href=\"https://www.douban.com/doubanapp/redirect?channel=top-nav&direct_dl=1&download=Android\" class=\"download-android\">Android</a>\n",
      "      </ul>\n",
      "        <ul>\n",
      "    <p class=\"appintro-title\" name=\"douban\" >1\u8c46\u74e3</p>\n",
      "    <p class=\"slogan\">1\u6211\u4eec\u7684\u7cbe\u795e\u89d2\u843d</p>\n",
      "    <p class=\"qrcode\">1\u626b\u7801\u76f4\u63a5\u4e0b\u8f7d</p>\n",
      "</ul>\n",
      "    </div>\n",
      "    <div id=\"doubanapp-tip\">\n",
      "      <a href=\"https://www.douban.com/doubanapp/app?channel=qipao\" class=\"tip-link\">\u8c46\u74e3 5.0 \u5168\u65b0\u53d1\u5e03</a>\n",
      "      <a href=\"javascript: void 0;\" class=\"tip-close\">\u00d7</a>\n",
      "    </div>\n",
      "  </div>\n",
      "</div>\n",
      "'''\n",
      "from bs4 import BeautifulSoup\n",
      "soup = BeautifulSoup(html, 'lxml')\n",
      "for p in soup.select('ul p'):\n",
      "    print(p['class'])"
     ],
     "language": "python",
     "metadata": {},
     "outputs": [
      {
       "output_type": "stream",
       "stream": "stdout",
       "text": [
        "['appintro-title']\n",
        "['slogan']\n",
        "['qrcode']\n",
        "['appintro-title']\n",
        "['slogan']\n",
        "['qrcode']\n"
       ]
      }
     ],
     "prompt_number": 60
    },
    {
     "cell_type": "heading",
     "level": 3,
     "metadata": {},
     "source": [
      "\u83b7\u53d6\u5185\u5bb9"
     ]
    },
    {
     "cell_type": "code",
     "collapsed": false,
     "input": [
      "html = '''\n",
      "    <title>\n",
      "    \u8c46\u74e3\u8bfb\u4e66\n",
      "</title>\n",
      "<div id=\"db-global-nav\" class=\"global-nav\">\n",
      "  <div class=\"bd\">\n",
      "    \n",
      "<div class=\"top-nav-info\">\n",
      "  <a href=\"https://www.douban.com/accounts/login?source=book\" class=\"nav-login\" rel=\"nofollow\">\u767b\u5f55</a>\n",
      "  <a href=\"https://www.douban.com/accounts/register?source=book\" class=\"nav-register\" rel=\"nofollow\">\u6ce8\u518c</a>\n",
      "</div> \n",
      "<div class=\"top-nav-doubanapp\">\n",
      "  <a href=\"https://www.douban.com/doubanapp/app?channel=top-nav\" class=\"lnk-doubanapp\">\u4e0b\u8f7d\u8c46\u74e3\u5ba2\u6237\u7aef</a>\n",
      "  <div id=\"top-nav-appintro\" class=\"more-items\">\n",
      "  <ul>\n",
      "    <p class=\"appintro-title\" name=\"douban\" >\u8c46\u74e3</p>\n",
      "    <p class=\"slogan\">\u6211\u4eec\u7684\u7cbe\u795e\u89d2\u843d</p>\n",
      "    <p class=\"qrcode\">\u626b\u7801\u76f4\u63a5\u4e0b\u8f7d</p>\n",
      "</ul>\n",
      "    <div class=\"download\">\n",
      "    <ul>\n",
      "      <a href=\"https://www.douban.com/doubanapp/redirect?channel=top-nav&direct_dl=1&download=iOS\">iPhone</a>\n",
      "      <span>\u00b7</span>\n",
      "      <a href=\"https://www.douban.com/doubanapp/redirect?channel=top-nav&direct_dl=1&download=Android\" class=\"download-android\">Android</a>\n",
      "      </ul>\n",
      "        <ul>\n",
      "    <p class=\"appintro-title\" name=\"douban\" >1\u8c46\u74e3</p>\n",
      "    <p class=\"slogan\">1\u6211\u4eec\u7684\u7cbe\u795e\u89d2\u843d</p>\n",
      "    <p class=\"qrcode\">1\u626b\u7801\u76f4\u63a5\u4e0b\u8f7d</p>\n",
      "</ul>\n",
      "    </div>\n",
      "    <div id=\"doubanapp-tip\">\n",
      "      <a href=\"https://www.douban.com/doubanapp/app?channel=qipao\" class=\"tip-link\">\u8c46\u74e3 5.0 \u5168\u65b0\u53d1\u5e03</a>\n",
      "      <a href=\"javascript: void 0;\" class=\"tip-close\">\u00d7</a>\n",
      "    </div>\n",
      "  </div>\n",
      "</div>\n",
      "'''\n",
      "from bs4 import BeautifulSoup\n",
      "soup = BeautifulSoup(html, 'lxml')\n",
      "for p in soup.select('ul p'):\n",
      "    print(p.get_text())"
     ],
     "language": "python",
     "metadata": {},
     "outputs": [
      {
       "output_type": "stream",
       "stream": "stdout",
       "text": [
        "\u8c46\u74e3\n",
        "\u6211\u4eec\u7684\u7cbe\u795e\u89d2\u843d\n",
        "\u626b\u7801\u76f4\u63a5\u4e0b\u8f7d\n",
        "1\u8c46\u74e3\n",
        "1\u6211\u4eec\u7684\u7cbe\u795e\u89d2\u843d\n",
        "1\u626b\u7801\u76f4\u63a5\u4e0b\u8f7d\n"
       ]
      }
     ],
     "prompt_number": 61
    },
    {
     "cell_type": "heading",
     "level": 3,
     "metadata": {},
     "source": [
      "\u603b\u7ed3"
     ]
    },
    {
     "cell_type": "markdown",
     "metadata": {},
     "source": [
      "- \u63a8\u8350\u4f7f\u7528lxml\u89e3\u6790\u5668\uff0c\u5fc5\u8981\u65f6\u4f7f\u7528html.parser\n",
      "- \u6807\u7b7e\u9009\u62e9\u5668\u7b5b\u9009\u529f\u80fd\u5f31\u4f46\u662f\u901f\u5ea6\u5feb\n",
      "- \u5efa\u8bae\u4f7f\u7528find(), find_all()\u67e5\u8be2\u5339\u914d\u5355\u4e2a\u6216\u591a\u4e2a\u7ed3\u679c\n",
      "- \u5982\u679c\u5bf9CSS\u9009\u62e9\u5668\u719f\u6089\u7b80\u6613\u4f7f\u7528select()\n",
      "- \u8bb0\u4f4f\u5e38\u7528\u7684\u83b7\u53d6\u5c5e\u6027\u548c\u6587\u672c\u503c\u7684\u65b9\u6cd5"
     ]
    }
   ],
   "metadata": {}
  }
 ]
}